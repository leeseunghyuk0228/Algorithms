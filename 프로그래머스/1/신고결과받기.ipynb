{
 "cells": [
  {
   "cell_type": "markdown",
   "metadata": {
    "scrolled": true
   },
   "source": [
    "# 신고 결과받기\n",
    "1.각 유저는 한 번에 한 명의 유저를 신고할 수 있습니다.   \n",
    "2.신고 횟수에 제한은 없습니다. 서로 다른 유저를 계속해서 신고할 수 있습니다.   \n",
    "3.한 유저를 여러 번 신고할 수도 있지만, 동일한 유저에 대한 신고 횟수는 1회로 처리됩니다.   \n",
    "4.k번 이상 신고된 유저는 게시판 이용이 정지되며, 해당 유저를 신고한 모든 유저에게 정지 사실을 메일로 발합니다.   \n",
    "5.유저가 신고한 모든 내용을 취합하여 마지막에 한꺼번에 게시판 이용 정지를 시키면서 정지 메일을 발송합니다.   \n",
    "\n",
    "각 유저별로 신고당한 횟수는 다음과 같습니다.   \n",
    "   \n",
    "|유저 ID|신고당한 횟수|\n",
    "|:-:|:-:|\n",
    "|\"muzi\"|1|\n",
    "|\"frodo\"|2|\n",
    "|\"apeach\"|0|\n",
    "|\"neo\"|2|\n",
    "\n",
    "   \n",
    "|유저 ID|유저가 신고한 ID|정지된 ID|\n",
    "|:--:|:--:|:--:|\n",
    "|muzi|frodo,eno|frodo,neo|\n",
    "|frodo|neo|neo|\n",
    "|appeach|much,frodo|frodo|\n",
    "|neo|없음|없음|\n",
    "   \n",
    "이용자의 ID가 담긴 문자열 배열 id_list, 각 이용자가 신고한 이용자의 ID 정보가 담긴 문자열 배열 report,   \n",
    "정지 기준이 되는 신고 횟수 k가 매개변수로 주어질 때,    \n",
    "**각 유저별로 처리 결과 메일을 받은 횟수를 배열에 담아** \n",
    "return 하도록 solution 함수를 완성해주세요."
   ]
  },
  {
   "cell_type": "code",
   "execution_count": 27,
   "metadata": {},
   "outputs": [],
   "source": [
    "def solution(id_list, report, k):\n",
    "    # answer 리스트 인덱스=유저 ID, 리스트 값=정지된 ID 값\n",
    "    answer=[0]*len(id_list)\n",
    "    # {ID:신고 당한 횟수} 딕셔너리 생성\n",
    "    reports = {x : 0 for x in id_list} \n",
    "    print('answer 생성: ',answer) \n",
    "    print('reports(신고당한 횟수) 생성: ',reports,'\\n')\n",
    "    \n",
    "    #신고한 사람(split[0])\n",
    "    #신고당한 사람(split[1])\n",
    "    #중복 신고 비허용을 위한 set함수 사용\n",
    "    for r in set(report):\n",
    "        print('[유저ID, 신고 당한 ID] --> ',r.split())\n",
    "        reports[r.split()[1]] += 1 # 신고 누적 횟수 증가\n",
    "    print('\\nreports(신고당한 횟수):',reports)\n",
    "    \n",
    "    # 신고한 사람 ID 해당 index 증가\n",
    "    for r in set(report):\n",
    "        if reports[r.split()[1]]>=k:\n",
    "            answer[id_list.index(r.split()[0])]+=1\n",
    "    \n",
    "            \n",
    "    return answer"
   ]
  },
  {
   "cell_type": "code",
   "execution_count": 28,
   "metadata": {},
   "outputs": [
    {
     "name": "stdout",
     "output_type": "stream",
     "text": [
      "answer 생성:  [0, 0, 0, 0]\n",
      "reports(신고당한 횟수) 생성:  {'muzi': 0, 'frodo': 0, 'apeach': 0, 'neo': 0} \n",
      "\n",
      "[유저ID, 신고 당한 ID] -->  ['apeach', 'frodo']\n",
      "[유저ID, 신고 당한 ID] -->  ['frodo', 'neo']\n",
      "[유저ID, 신고 당한 ID] -->  ['muzi', 'frodo']\n",
      "[유저ID, 신고 당한 ID] -->  ['apeach', 'muzi']\n",
      "[유저ID, 신고 당한 ID] -->  ['muzi', 'neo']\n",
      "\n",
      "reports(신고당한 횟수): {'muzi': 1, 'frodo': 2, 'apeach': 0, 'neo': 2}\n"
     ]
    },
    {
     "data": {
      "text/plain": [
       "[2, 1, 1, 0]"
      ]
     },
     "execution_count": 28,
     "metadata": {},
     "output_type": "execute_result"
    }
   ],
   "source": [
    "id_list=[\"muzi\", \"frodo\", \"apeach\", \"neo\"]\n",
    "report=[\"muzi frodo\",\"apeach frodo\",\"frodo neo\",\"muzi neo\",\"apeach muzi\"]\n",
    "k=2\n",
    "\n",
    "solution(id_list,report,k)"
   ]
  }
 ],
 "metadata": {
  "kernelspec": {
   "display_name": "Python 3",
   "language": "python",
   "name": "python3"
  },
  "language_info": {
   "codemirror_mode": {
    "name": "ipython",
    "version": 3
   },
   "file_extension": ".py",
   "mimetype": "text/x-python",
   "name": "python",
   "nbconvert_exporter": "python",
   "pygments_lexer": "ipython3",
   "version": "3.7.6"
  }
 },
 "nbformat": 4,
 "nbformat_minor": 4
}
