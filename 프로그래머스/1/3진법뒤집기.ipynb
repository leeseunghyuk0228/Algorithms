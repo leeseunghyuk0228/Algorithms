{
 "cells": [
  {
   "cell_type": "markdown",
   "metadata": {},
   "source": [
    "# 3진법 뒤집기"
   ]
  },
  {
   "cell_type": "markdown",
   "metadata": {},
   "source": [
    "자연수 n이 매개변수로 주어집니다.<br>\n",
    "n을 3진법 상에서 앞뒤로 뒤집은 후, 이를 다시 10진법으로 표현한 수를 return <br>\n",
    "하도록 solution 함수를 완성해주세요.<br>\n",
    "\n",
    "\n",
    "```\n",
    "n은 1 이상 100,000,000 이하인 자연수입니다.\n",
    "```\n",
    "\n",
    "\n"
   ]
  },
  {
   "cell_type": "markdown",
   "metadata": {},
   "source": [
    "입출력 예\n",
    "<br>\n",
    "\n",
    "|n|result|\n",
    "|-|-|\n",
    "|45|7|\n",
    "|125|229|"
   ]
  },
  {
   "cell_type": "markdown",
   "metadata": {},
   "source": [
    "답을 도출하는 과정은 다음과 같습니다.\n",
    "<br>\n",
    "\n",
    "|n(10진법)|n (3진법)|앞뒤 반전(3진법)|10진법으로 표현|\n",
    "|-|-|-|-\n",
    "|45|1200|0021|7|\n",
    "\n",
    "따라서 7을 return 해야 합니다."
   ]
  },
  {
   "cell_type": "code",
   "execution_count": 2,
   "metadata": {},
   "outputs": [],
   "source": [
    "def solution(n):\n",
    "    nn=1\n",
    "    while 3**nn<=n:\n",
    "        nn+=1\n",
    "    \n",
    "    data=[]\n",
    "    for i in range(nn-1,-1,-1):\n",
    "        data.append(n//(3**i))\n",
    "        n=n%(3**i)\n",
    "    \n",
    "    return sum([d*(3**(idx)) for idx,d in enumerate(data)])"
   ]
  },
  {
   "cell_type": "markdown",
   "metadata": {},
   "source": [
    "### int(string,n)\n",
    "### n 진법으로 string 문자를 변경해줌"
   ]
  },
  {
   "cell_type": "code",
   "execution_count": null,
   "metadata": {},
   "outputs": [],
   "source": [
    "def solution(n):\n",
    "    ans=''\n",
    "    while n:\n",
    "        ans+=str(n%3)\n",
    "        n=n//3\n",
    "    return int(ans,3)\n",
    "    "
   ]
  }
 ],
 "metadata": {
  "kernelspec": {
   "display_name": "Python 3",
   "language": "python",
   "name": "python3"
  },
  "language_info": {
   "codemirror_mode": {
    "name": "ipython",
    "version": 3
   },
   "file_extension": ".py",
   "mimetype": "text/x-python",
   "name": "python",
   "nbconvert_exporter": "python",
   "pygments_lexer": "ipython3",
   "version": "3.7.6"
  }
 },
 "nbformat": 4,
 "nbformat_minor": 4
}
