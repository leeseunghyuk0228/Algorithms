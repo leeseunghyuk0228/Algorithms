{
 "cells": [
  {
   "cell_type": "markdown",
   "metadata": {},
   "source": [
    "# 폰켓몬 선택 최대 종류\n",
    "<br>\n",
    "\n",
    "```\n",
    "홍 박사님은 당신에게 자신의 연구실에 있는 총 N 마리의 폰켓몬 중에서 N/2마리를 가져가도 좋다고 했습니다.\n",
    "홍 박사님 연구실의 폰켓몬은 종류에 따라 번호를 붙여 구분합니다. \n",
    "따라서 같은 종류의 폰켓몬은 같은 번호를 가지고 있습니다.\n",
    "예를 들어 연구실에 총 4마리의 폰켓몬이 있고, \n",
    "각 폰켓몬의 종류 번호가 [3번, 1번, 2번, 3번]이라면 \n",
    "이는 3번 폰켓몬 두 마리, 1번 폰켓몬 한 마리, 2번 폰켓몬 한 마리가 있음을 나타냅니다. \n",
    "이때, 4마리의 폰켓몬 중 2마리를 고르는 방법은 다음과 같이 6가지가 있습니다.\n",
    "```\n",
    "<br>\n",
    "\n",
    "```\n",
    "첫 번째(3번), 두 번째(1번) 폰켓몬을 선택\n",
    "첫 번째(3번), 세 번째(2번) 폰켓몬을 선택\n",
    "첫 번째(3번), 네 번째(3번) 폰켓몬을 선택\n",
    "두 번째(1번), 세 번째(2번) 폰켓몬을 선택\n",
    "두 번째(1번), 네 번째(3번) 폰켓몬을 선택\n",
    "세 번째(2번), 네 번째(3번) 폰켓몬을 선택\n",
    "```\n",
    "\n",
    "```\n",
    "따라서 위 예시에서 가질 수 있는 폰켓몬 종류 수의 최댓값은 2가 됩니다.\n",
    "당신은 최대한 다양한 종류의 폰켓몬을 가지길 원하기 때문에, \n",
    "최대한 많은 종류의 폰켓몬을 포함해서 N/2마리를 선택하려 합니다. \n",
    "N마리 폰켓몬의 종류 번호가 담긴 배열 nums가 매개변수로 주어질 때, \n",
    "N/2마리의 폰켓몬을 선택하는 방법 중, 가장 많은 종류의 폰켓몬을 선택하는 방법을 찾아, \n",
    "그때의 폰켓몬 종류 번호의 개수를 return 하도록 solution 함수를 완성해주세요.\n",
    "```"
   ]
  },
  {
   "cell_type": "markdown",
   "metadata": {},
   "source": [
    "입출력 예\n",
    "<br>\n",
    "\n",
    "|nums|result|\n",
    "|-|-|\n",
    "|[3,1,2,3]|2|\n",
    "|[3,3,3,2,2,4]|3|\n",
    "|[3,3,3,2,2,2]|2|"
   ]
  },
  {
   "cell_type": "markdown",
   "metadata": {},
   "source": [
    "### 제한사항\n",
    "```\n",
    "nums는 폰켓몬의 종류 번호가 담긴 1차원 배열입니다.\n",
    "nums의 길이(N)는 1 이상 10,000 이하의 자연수이며, 항상 짝수로 주어집니다.\n",
    "폰켓몬의 종류 번호는 1 이상 200,000 이하의 자연수로 나타냅니다.\n",
    "가장 많은 종류의 폰켓몬을 선택하는 방법이 여러 가지인 경우에도, 선택할 수 있는 폰켓몬 종류 개수의 최댓값 하나만 return 하면 됩니다.\n",
    "```\n",
    "<br>\n",
    "\n",
    "### 헷갈린다\n",
    "1. 전체 마리수 N 중 N/2마리 선택(N 무조건 짝수)<br>\n",
    "2. 고를 수 있는 전체 가지수 아닌, 최대 종류수 만<br>\n",
    ": 전체 종류 set으로 중복 제거<br>\n",
    ": 중복 제거한 길이 = 유니크한 포켓몬 마리수<br>\n",
    ": 전체 마리수 > N/2 일 경우, N/2가 최대\n",
    ": 아닐경우 전체 마리수(중복 제거 길이)가 최대\n",
    "\n",
    "    "
   ]
  },
  {
   "cell_type": "markdown",
   "metadata": {},
   "source": [
    "다시 해석하자면<br>\n",
    "***N/2 하고, set(num) 둘 중 작은 것을 반환***<br><br>\n",
    "**min(len(nums)/2,len(set(nums)))**"
   ]
  },
  {
   "cell_type": "code",
   "execution_count": 5,
   "metadata": {},
   "outputs": [],
   "source": [
    "nums=[3,3,3,2,2,4]\n",
    "\n",
    "def solution(nums):\n",
    "    cnt=len(nums)/2/2\n",
    "    if cnt>=len(set(nums)): return(len(set(nums)))\n",
    "    else: return (cnt)\n",
    "    return answer"
   ]
  },
  {
   "cell_type": "code",
   "execution_count": 6,
   "metadata": {},
   "outputs": [
    {
     "data": {
      "text/plain": [
       "3"
      ]
     },
     "execution_count": 6,
     "metadata": {},
     "output_type": "execute_result"
    }
   ],
   "source": [
    "solution(nums)"
   ]
  }
 ],
 "metadata": {
  "kernelspec": {
   "display_name": "Python 3",
   "language": "python",
   "name": "python3"
  },
  "language_info": {
   "codemirror_mode": {
    "name": "ipython",
    "version": 3
   },
   "file_extension": ".py",
   "mimetype": "text/x-python",
   "name": "python",
   "nbconvert_exporter": "python",
   "pygments_lexer": "ipython3",
   "version": "3.7.6"
  }
 },
 "nbformat": 4,
 "nbformat_minor": 4
}
