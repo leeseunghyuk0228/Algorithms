{
 "cells": [
  {
   "cell_type": "markdown",
   "metadata": {},
   "source": [
    "# 문자열 마음대로 정렬하기"
   ]
  },
  {
   "cell_type": "markdown",
   "metadata": {},
   "source": [
    "문자열로 구성된 리스트 strings와, 정수 n이 주어졌을 때, <br>\n",
    "각 문자열의 인덱스 n번째 글자를 기준으로 오름차순 정렬하려 합니다. <br><br>\n",
    "예를 들어 strings가 [\"sun\", \"bed\", \"car\"]이고 n이 1이면<br>\n",
    "각 단어의 인덱스 1의 문자 \"u\", \"e\", \"a\"로 strings를 정렬합니다.<br>\n"
   ]
  },
  {
   "cell_type": "markdown",
   "metadata": {},
   "source": [
    "```\n",
    "strings는 길이 1 이상, 50이하인 배열입니다.\n",
    "strings의 원소는 소문자 알파벳으로 이루어져 있습니다.\n",
    "strings의 원소는 길이 1 이상, 100이하인 문자열입니다.\n",
    "모든 strings의 원소의 길이는 n보다 큽니다.\n",
    "인덱스 1의 문자가 같은 문자열이 여럿 일 경우, 사전순으로 앞선 문자열이 앞쪽에 위치합니다.\n",
    "```"
   ]
  },
  {
   "cell_type": "markdown",
   "metadata": {},
   "source": [
    "입출력 예\n",
    "<br>\n",
    "\n",
    "|strings|n|return|\n",
    "|-|-|-|\n",
    "|[\"sun\", \"bed\", \"car\"]|1|[\"car\", \"bed\", \"sun\"]|\n",
    "|[\"abce\", \"abcd\", \"cdx\"]|2|[\"abcd\", \"abce\", \"cdx\"]|"
   ]
  },
  {
   "cell_type": "code",
   "execution_count": 7,
   "metadata": {},
   "outputs": [],
   "source": [
    "def solution(strings, n):\n",
    "    return sorted(strings, key= lambda x:(x[n],x))"
   ]
  },
  {
   "cell_type": "code",
   "execution_count": 8,
   "metadata": {},
   "outputs": [
    {
     "data": {
      "text/plain": [
       "['abcd', 'abce', 'cdx']"
      ]
     },
     "execution_count": 8,
     "metadata": {},
     "output_type": "execute_result"
    }
   ],
   "source": [
    "strings=[\"abce\", \"abcd\", \"cdx\"]\n",
    "n=2\n",
    "solution(strings,n)"
   ]
  }
 ],
 "metadata": {
  "kernelspec": {
   "display_name": "Python 3",
   "language": "python",
   "name": "python3"
  },
  "language_info": {
   "codemirror_mode": {
    "name": "ipython",
    "version": 3
   },
   "file_extension": ".py",
   "mimetype": "text/x-python",
   "name": "python",
   "nbconvert_exporter": "python",
   "pygments_lexer": "ipython3",
   "version": "3.7.6"
  }
 },
 "nbformat": 4,
 "nbformat_minor": 4
}
