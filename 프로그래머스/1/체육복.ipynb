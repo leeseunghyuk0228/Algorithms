{
 "cells": [
  {
   "cell_type": "markdown",
   "metadata": {},
   "source": [
    "# 체육복"
   ]
  },
  {
   "cell_type": "markdown",
   "metadata": {},
   "source": [
    "점심시간에 도둑이 들어, 일부 학생이 체육복을 도난당했습니다. <br>\n",
    "다행히 여벌 체육복이 있는 학생이 이들에게 체육복을 빌려주려 합니다.<br>\n",
    "바로 앞번호의 학생이나 바로 뒷번호의 학생에게만 체육복을 빌려줄 수 있습니다.<br>\n",
    "예를 들어, 4번 학생은 3번 학생이나 5번 학생에게만 체육복을 빌려줄 수 있습니다. <br><br>\n",
    "\n",
    "전체 학생의 수 n, <br> 체육복을 도난당한 학생들의 번호가 담긴 배열 lost,<br>\n",
    "여벌의 체육복을 가져온 학생들의 번호가 담긴 배열 reserve가 매개변수로 주어질 때,<br>\n",
    "***체육수업을 들을 수 있는 학생의 최댓값을 return*** 하도록 solution 함수를 작성"
   ]
  },
  {
   "cell_type": "markdown",
   "metadata": {},
   "source": [
    "**제한사항**\n",
    "```\n",
    "전체 학생의 수는 2명 이상 30명 이하입니다.\n",
    "체육복을 도난당한 학생의 수는 1명 이상 n명 이하이고 중복되는 번호는 없습니다.\n",
    "여벌의 체육복을 가져온 학생의 수는 1명 이상 n명 이하이고 중복되는 번호는 없습니다.\n",
    "여벌 체육복이 있는 학생만 다른 학생에게 체육복을 빌려줄 수 있습니다.\n",
    "여벌 체육복을 가져온 학생이 체육복을 도난당했을 수 있습니다.\n",
    "이때 이 학생은 체육복을 하나만 도난당했다고 가정하며, 남은 체육복이 하나이기에 \n",
    "다른 학생에게는 체육복을 빌려줄 수 없습니다.\n",
    "```"
   ]
  },
  {
   "cell_type": "markdown",
   "metadata": {},
   "source": [
    "입출력 예\n",
    "\n",
    "|n|lost|reserve|return|\n",
    "|-|:-:|:-:|:-:|\n",
    "|5|[2, 4]|[1, 3, 5]|5|\n",
    "|5|[2, 4]|[3]|4|\n",
    "|3|[3]|[1]|2|"
   ]
  },
  {
   "cell_type": "code",
   "execution_count": null,
   "metadata": {},
   "outputs": [],
   "source": [
    "#### 가장 많이 빌려줄 수 있는 경우의 수: 앞번호부터 차례대로, 자기 앞사람에게 빌려주기\n",
    "#### 여유분 가져온 사람 정렬(reserve)<br>\n",
    "# 여유분 가져온 사람이, 도둑 맞앚을 수 있음 -> 중복 제거<br>\n",
    "#### 초기 명수: 전체 명수 -\n",
    "#### 정렬되고, 중복 제거된 여유분 앞번호부터 if(num-1)확인, 이후 뒷번호 if(n+1)\n",
    "#### 있으면 명수 증가시키고, 잃은사람 명단 제거\n"
   ]
  },
  {
   "cell_type": "code",
   "execution_count": null,
   "metadata": {},
   "outputs": [],
   "source": [
    "def solution(n, lost, reserve):\n",
    "    #정렬\n ",
    "    reserve.sort()\n",
    "    #중복 제거\n",
    "    n_lost=[l for l in lost if l not in reserve]\n",
    "    n_reserve=[r for r in reserve if r not in lost]\n",
    "    #초기n -> 전체n - 도둑맞은 명수\n",
    "    answer=n-len(n_lost)\n",
    "    \n",
    "    for r in n_reserve:\n",
    "        if r-1 in n_lost:\n",
    "            answer+=1\n",
    "            n_lost.remove(r-1)\n",
    "        elif r+1 in n_lost:\n",
    "            answer+=1\n",
    "            n_lost.remove(r+1)\n",
    "            \n",
    "    return answer"
   ]
  }
 ],
 "metadata": {
  "kernelspec": {
   "display_name": "Python 3",
   "language": "python",
   "name": "python3"
  },
  "language_info": {
   "codemirror_mode": {
    "name": "ipython",
    "version": 3
   },
   "file_extension": ".py",
   "mimetype": "text/x-python",
   "name": "python",
   "nbconvert_exporter": "python",
   "pygments_lexer": "ipython3",
   "version": "3.7.6"
  }
 },
 "nbformat": 4,
 "nbformat_minor": 4
}
