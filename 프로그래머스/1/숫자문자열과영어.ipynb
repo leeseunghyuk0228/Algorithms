{
 "cells": [
  {
   "cell_type": "markdown",
   "metadata": {},
   "source": [
    "# 숫자 문자열과 영단어\n",
    "다음은 숫자의 일부 자릿수를 영단어로 바꾸는 예시입니다.\n",
    "<br><br>\n",
    "1478 → \"one4seveneight\"<br>\n",
    "234567 → \"23four5six7\"<br>\n",
    "10203 → \"1zerotwozero3\"<br><br>\n",
    "\n",
    "이렇게 숫자의 일부 자릿수가 영단어로 바뀌어졌거나, 혹은 바뀌지 않고 그대로인 문자열 s가 매개변수로 주어집니다.<br>\n",
    "s가 의미하는 원래 숫자를 return 하도록 solution 함수를 완성해주세요."
   ]
  },
  {
   "cell_type": "markdown",
   "metadata": {},
   "source": [
    "입출력 예\n",
    "<br>\n",
    "\n",
    "|s|result|\n",
    "|-|-|\n",
    "|\"one4seveneight\"|1478|\n",
    "|\"23four5six7\"|234567|\n",
    "|\"2three45sixseven\"|234567|\n",
    "|\"123\"|123|"
   ]
  },
  {
   "cell_type": "markdown",
   "metadata": {},
   "source": [
    "문자열:숫자 딕셔너리 생성<br>\n",
    "딕셔너리 key 포문 돌려<br>\n",
    "문장에서 영어 찾기(findall)<br>\n",
    "숫자로 바꾼후(sub) join"
   ]
  },
  {
   "cell_type": "code",
   "execution_count": 10,
   "metadata": {},
   "outputs": [
    {
     "name": "stdout",
     "output_type": "stream",
     "text": [
      "처음s:  one4seveneight\n",
      "변환s:  1478\n"
     ]
    }
   ],
   "source": [
    "s=\"one4seveneight\"\n",
    "print('처음s: ',s)\n",
    "trans={'zero': '0',\n",
    "       'one' : '1',\n",
    "       'two' : '2',\n",
    "       'three': '3',\n",
    "       'four' : '4',\n",
    "       'five' : '5',\n",
    "       'six' : '6',\n",
    "       'seven' : '7',\n",
    "       'eight' : '8',\n",
    "       'nine' : '9',\n",
    "       'ten' : '10'}\n",
    "for eng in trans.keys():\n",
    "    s=s.replace(eng,trans[eng])\n",
    "print('변환s: ',s)"
   ]
  }
 ],
 "metadata": {
  "kernelspec": {
   "display_name": "Python 3",
   "language": "python",
   "name": "python3"
  },
  "language_info": {
   "codemirror_mode": {
    "name": "ipython",
    "version": 3
   },
   "file_extension": ".py",
   "mimetype": "text/x-python",
   "name": "python",
   "nbconvert_exporter": "python",
   "pygments_lexer": "ipython3",
   "version": "3.7.6"
  }
 },
 "nbformat": 4,
 "nbformat_minor": 4
}
