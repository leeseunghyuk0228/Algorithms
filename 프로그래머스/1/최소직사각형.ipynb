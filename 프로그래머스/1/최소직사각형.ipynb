{
 "cells": [
  {
   "cell_type": "markdown",
   "metadata": {},
   "source": [
    "# 최소 직사각형"
   ]
  },
  {
   "cell_type": "markdown",
   "metadata": {},
   "source": [
    "|명함 번호|가로 길이|세로 길이|\n",
    "|-|-|-|\n",
    "|1|60|50|\n",
    "|2|30|70|\n",
    "|3|60|30|\n",
    "|4|80|40|\n",
    "\n",
    "가장 긴 가로 길이와 세로 길이가 각각 80, 70이기 때문에 80(가로) x 70(세로) 크기의 지갑을 만들면<br>\n",
    "모든 명함들을 수납할 수 있습니다.<br>\n",
    "\n",
    "하지만 2번 명함을 가로로 눕혀 수납한다면 <br>\n",
    "80(가로) x 50(세로) 크기의 지갑으로 모든 명함들을 수납할 수 있습니다.<br>\n",
    "이때의 지갑 크기는 4000(=80 x 50)입니다.<br>\n"
   ]
  },
  {
   "cell_type": "markdown",
   "metadata": {},
   "source": [
    "```\n",
    "sizes의 길이는 1 이상 10,000 이하입니다.\n",
    "sizes의 원소는 [w, h] 형식입니다.\n",
    "w는 명함의 가로 길이를 나타냅니다.\n",
    "h는 명함의 세로 길이를 나타냅니다.\n",
    "w와 h는 1 이상 1,000 이하인 자연수입니다.\n",
    "```"
   ]
  },
  {
   "cell_type": "markdown",
   "metadata": {},
   "source": [
    "입출력 예\n",
    "<br>\n",
    "\n",
    "|sizes|result|\n",
    "|-|-|\n",
    "|[[60, 50], [30, 70], [60, 30], [80, 40]]|4000|\n",
    "|[[10, 7], [12, 3], [8, 15], [14, 7], [5, 15]]|120|\n",
    "|[[14, 4], [19, 6], [6, 16], [18, 7], [7, 11]]|133|"
   ]
  },
  {
   "cell_type": "code",
   "execution_count": 1,
   "metadata": {},
   "outputs": [],
   "source": [
    "def solution(sizes):\n",
    "    \n",
    "    return max([max(i) for i in sizes])*max([min(i) for i in sizes])"
   ]
  },
  {
   "cell_type": "code",
   "execution_count": 2,
   "metadata": {},
   "outputs": [
    {
     "data": {
      "text/plain": [
       "4000"
      ]
     },
     "execution_count": 2,
     "metadata": {},
     "output_type": "execute_result"
    }
   ],
   "source": [
    "sizes=[[60, 50], [30, 70], [60, 30], [80, 40]]\n",
    "solution(sizes)"
   ]
  }
 ],
 "metadata": {
  "kernelspec": {
   "display_name": "Python 3",
   "language": "python",
   "name": "python3"
  },
  "language_info": {
   "codemirror_mode": {
    "name": "ipython",
    "version": 3
   },
   "file_extension": ".py",
   "mimetype": "text/x-python",
   "name": "python",
   "nbconvert_exporter": "python",
   "pygments_lexer": "ipython3",
   "version": "3.7.6"
  }
 },
 "nbformat": 4,
 "nbformat_minor": 4
}
