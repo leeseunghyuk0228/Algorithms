{
 "cells": [
  {
   "cell_type": "markdown",
   "metadata": {},
   "source": [
    "# 크레인 인형뽑기게임"
   ]
  },
  {
   "cell_type": "code",
   "execution_count": null,
   "metadata": {},
   "outputs": [],
   "source": []
  },
  {
   "cell_type": "markdown",
   "metadata": {},
   "source": [
    "게임 화면은 \"1 x 1\" 크기의 칸들로 이루어진 \"N x N\" 크기의 정사각 격자이며 위쪽에는 크레인이 있고<br>\n",
    "오른쪽에는 바구니가 있습니다. (위 그림은 \"5 x 5\" 크기의 예시입니다). 각 격자 칸에는 다양한 인형이 들어 있으며 인형이 없는 칸은 빈칸입니다. <br>\n",
    "모든 인형은 \"1 x 1\" 크기의 격자 한 칸을 차지하며 격자의 가장 아래 칸부터 차곡차곡 쌓여 있습니다.<br>\n",
    "<br>\n",
    "***<u>인형을 집어 바구니에 쌓으면 같은 모양 인형 두 개가 없어집니다.</u>***\n",
    "<br>\n",
    "<br>\n",
    "\n",
    "게임 화면의 격자의 상태가 담긴 2차원 배열 board<br>\n",
    "인형을 집기 위해 크레인을 작동시킨 위치가 담긴 배열 moves<br>\n",
    "***<u>크레인을 모두 작동시킨 후 터트려져 사라진 인형의 개수를 return</u>***<br>\n",
    "하도록 solution 함수를 완성해주세요."
   ]
  },
  {
   "cell_type": "markdown",
   "metadata": {},
   "source": [
    "입출력 예\n",
    "\n",
    "|board|moves|result|\n",
    "|-|-|-|\n",
    "|[[0,0,0,0,0],<br>[0,0,1,0,3],<br>[0,2,5,0,1],<br>[4,2,4,4,2],<br>[3,5,1,3,1]]|[1,5,3,5,1,2,1,4]|4|"
   ]
  },
  {
   "cell_type": "markdown",
   "metadata": {},
   "source": [
    "[1,5,3,5,1,2,1,4] 이동 후 최종 이미지<br><br>\n",
    "\n",
    "<img src=\"https://grepp-programmers.s3.ap-northeast-2.amazonaws.com/files/production/69f1cd36-09f4-4435-8363-b71a650f7448/crane_game_101.png\" title=\"\" alt=\"crane_game_101.png\">"
   ]
  },
  {
   "cell_type": "markdown",
   "metadata": {},
   "source": [
    "#### moves의 번호-1 --> 열의 번호\n",
    "#### moves 마지막 숫자를 꺼내고, 0치환\n",
    "#### 꺼낸 숫자를 미리 생성해놓은 queue 마지막 숫자와 비교\n",
    "#### 일치하면, 둘 다 없애고 cnt+=2\n",
    "#### 아니면, 그냥 추가"
   ]
  },
  {
   "cell_type": "code",
   "execution_count": 4,
   "metadata": {},
   "outputs": [],
   "source": [
    "def solution(board, moves):\n",
    "    queue=[0]\n",
    "    cnt=0\n",
    "    for m in moves:\n",
    "        for s in range(0,len(board[0])):\n",
    "            if board[s][m-1]!=0:\n",
    "                if board[s][m-1]==queue[-1]:\n",
    "                    queue.pop()\n",
    "                    cnt+=2\n",
    "                else:\n",
    "                    queue.append(board[s][m-1])\n",
    "                board[s][m-1]=0\n",
    "                break\n",
    "    return cnt"
   ]
  },
  {
   "cell_type": "code",
   "execution_count": 5,
   "metadata": {},
   "outputs": [
    {
     "data": {
      "text/plain": [
       "4"
      ]
     },
     "execution_count": 5,
     "metadata": {},
     "output_type": "execute_result"
    }
   ],
   "source": [
    "board=[[0,0,0,0,0],[0,0,1,0,3],[0,2,5,0,1],[4,2,4,4,2],[3,5,1,3,1]]\n",
    "moves=[1,5,3,5,1,2,1,4]\n",
    "solution(board,moves)"
   ]
  }
 ],
 "metadata": {
  "kernelspec": {
   "display_name": "Python 3",
   "language": "python",
   "name": "python3"
  },
  "language_info": {
   "codemirror_mode": {
    "name": "ipython",
    "version": 3
   },
   "file_extension": ".py",
   "mimetype": "text/x-python",
   "name": "python",
   "nbconvert_exporter": "python",
   "pygments_lexer": "ipython3",
   "version": "3.7.6"
  }
 },
 "nbformat": 4,
 "nbformat_minor": 4
}
