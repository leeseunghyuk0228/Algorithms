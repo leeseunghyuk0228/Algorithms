{
 "cells": [
  {
   "cell_type": "markdown",
   "metadata": {},
   "source": [
    "# 신규 아이디 추천\n",
    "\n",
    "1. 아이디의 길이는 3자 이상 15자 이하여야 합니다.   \n",
    "2. 아이디는 알파벳 소문자, 숫자, 빼기(-), 밑줄(_), 마침표(.) 문자만 사용할 수 있습니다.   \n",
    "3. 단, 마침표(.)는 처음과 끝에 사용할 수 없으며 또한 연속으로 사용할 수 없습니다.   \n",
    "```\n",
    "1단계 new_id의 모든 대문자를 대응되는 소문자로 치환합니다.\n",
    "2단계 new_id에서 알파벳 소문자, 숫자, 빼기(-), 밑줄(_), 마침표(.)를 제외한 모든 문자를 제거합니다.\n",
    "3단계 new_id에서 마침표(.)가 2번 이상 연속된 부분을 하나의 마침표(.)로 치환합니다.\n",
    "4단계 new_id에서 마침표(.)가 처음이나 끝에 위치한다면 제거합니다.\n",
    "5단계 new_id가 빈 문자열이라면, new_id에 \"a\"를 대입합니다.\n",
    "6단계 new_id의 길이가 16자 이상이면, new_id의 첫 15개의 문자를 제외한 나머지 문자들을 모두 제거합니다. 만약 제거 후 마침표(.)가 new_id의 끝에 위치한다면 끝에 위치한 마침표(.) 문자를 제거합니다.\n",
    "7단계 new_id의 길이가 2자 이하라면, new_id의 마지막 문자를 new_id의 길이가 3이 될 때까지 반복해서 끝에 붙입니다.\n",
    "```\n",
    "\n",
    "new_id에 나타날 수 있는 특수문자는 -_.~!@\\#$%^&*()=+[{]}:?,<>/ 로 한정됩니다.\n",
    "\n",
    "|no|new_id|result|\n",
    "|:-:|:-:|:-:|\n",
    "|예1|\"...!@BaT#*..y.abcdefghijklm\"|\"bat.y.abcdefghi\"|\n",
    "|예2|\"z-+.^.\"|\"z--\"|\n",
    "|예3|\"=.=\"|\"aaa\"|\n",
    "|예4|\"123_.def\"|\"123_.def\"|\n",
    "|예5|\"abcdefghijklmn.p\"|\"abcdefghijklmn\"|"
   ]
  },
  {
   "cell_type": "code",
   "execution_count": 27,
   "metadata": {},
   "outputs": [],
   "source": [
    "def solution(new_id):\n",
    "    import re\n",
    "    print('입력 아이디: {id}\\n'.format(id=new_id))\n",
    "    \n",
    "    #1단계(소문자 변환)\n",
    "    new_id=new_id.lower()\n",
    "    print('소문자로 변경: {id}\\n'.format(id=new_id))\n",
    "    \n",
    "    #2단계(특수문자 제거)\n",
    "    new_id=re.sub('[^ a-zA-Z0-9-_|.]','',new_id)\n",
    "    print('특수문자 제거: {id}\\n'.format(id=new_id))\n",
    "    \n",
    "    #3단계(온점 여러개시 중복 제거)\n",
    "    new_id=re.sub('[.]{2,}','.',new_id)\n",
    "    print('\\'.\\'개수 줄이기: {id}\\n'.format(id=new_id))\n",
    "    \n",
    "    #4단계(맨앞,맨뒤 온점 제거)\n",
    "    new_id=re.sub('^[.]|[.]$','',new_id)\n",
    "    print('\\'.\\' 시작 끝 없애기: {id}\\n'.format(id=new_id))\n",
    "    \n",
    "    #5단계(아이디 공백시 문자 'a' 대체)\n",
    "    if new_id=='':\n",
    "        new_id='a'\n",
    "        print('아이디 공백일 때: ',new_id,'\\n')\n",
    "        \n",
    "    #6단계(길이 15 초과 자르기)\n",
    "    elif len(new_id)>15:\n",
    "        new_id=new_id[:15]\n",
    "        print('아이디 길이 15 축소 : ',new_id,'\\n')\n",
    "        \n",
    "    #7단계(3글자 이하일 때, 반복)\n",
    "    if len(new_id)<3:\n",
    "        for i in range(0,3-len(new_id)):\n",
    "            new_id+=new_id[-1]\n",
    "        print('아이디 3글자 이하, 마지막 문자 반복: ',new_id,'\\n')\n",
    "            \n",
    "    #4단계(마지막 맨앞, 맨뒤 온점 제거)\n",
    "    answer = re.sub('^[.]|[.]$','',new_id)\n",
    "    return answer"
   ]
  },
  {
   "cell_type": "code",
   "execution_count": 28,
   "metadata": {},
   "outputs": [
    {
     "name": "stdout",
     "output_type": "stream",
     "text": [
      "입력 아이디: ...!@bat#*..y.abcdefghijklm\n",
      "\n",
      "소문자로 변경: ...!@bat#*..y.abcdefghijklm\n",
      "\n",
      "특수문자 제거: ...bat..y.abcdefghijklm\n",
      "\n",
      "'.'개수 줄이기: .bat.y.abcdefghijklm\n",
      "\n",
      "'.' 시작 끝 없애기: bat.y.abcdefghijklm\n",
      "\n",
      "아이디 길이 15 축소 :  bat.y.abcdefghi \n",
      "\n"
     ]
    },
    {
     "data": {
      "text/plain": [
       "'bat.y.abcdefghi'"
      ]
     },
     "execution_count": 28,
     "metadata": {},
     "output_type": "execute_result"
    }
   ],
   "source": [
    "solution('...!@bat#*..y.abcdefghijklm')"
   ]
  },
  {
   "cell_type": "code",
   "execution_count": 29,
   "metadata": {},
   "outputs": [
    {
     "name": "stdout",
     "output_type": "stream",
     "text": [
      "입력 아이디: =.=\n",
      "\n",
      "소문자로 변경: =.=\n",
      "\n",
      "특수문자 제거: .\n",
      "\n",
      "'.'개수 줄이기: .\n",
      "\n",
      "'.' 시작 끝 없애기: \n",
      "\n",
      "아이디 공백일 때:  a \n",
      "\n",
      "아이디 3글자 이하, 마지막 문자 반복:  aaa \n",
      "\n"
     ]
    },
    {
     "data": {
      "text/plain": [
       "'aaa'"
      ]
     },
     "execution_count": 29,
     "metadata": {},
     "output_type": "execute_result"
    }
   ],
   "source": [
    "solution('=.=')"
   ]
  },
  {
   "cell_type": "code",
   "execution_count": 30,
   "metadata": {},
   "outputs": [
    {
     "name": "stdout",
     "output_type": "stream",
     "text": [
      "입력 아이디: z-+.^.\n",
      "\n",
      "소문자로 변경: z-+.^.\n",
      "\n",
      "특수문자 제거: z-..\n",
      "\n",
      "'.'개수 줄이기: z-.\n",
      "\n",
      "'.' 시작 끝 없애기: z-\n",
      "\n",
      "아이디 3글자 이하, 마지막 문자 반복:  z-- \n",
      "\n"
     ]
    },
    {
     "data": {
      "text/plain": [
       "'z--'"
      ]
     },
     "execution_count": 30,
     "metadata": {},
     "output_type": "execute_result"
    }
   ],
   "source": [
    "solution('z-+.^.')"
   ]
  }
 ],
 "metadata": {
  "kernelspec": {
   "display_name": "Python 3",
   "language": "python",
   "name": "python3"
  },
  "language_info": {
   "codemirror_mode": {
    "name": "ipython",
    "version": 3
   },
   "file_extension": ".py",
   "mimetype": "text/x-python",
   "name": "python",
   "nbconvert_exporter": "python",
   "pygments_lexer": "ipython3",
   "version": "3.7.6"
  }
 },
 "nbformat": 4,
 "nbformat_minor": 4
}
