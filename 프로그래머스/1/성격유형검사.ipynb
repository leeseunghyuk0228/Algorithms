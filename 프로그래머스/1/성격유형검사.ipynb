{
 "cells": [
  {
   "cell_type": "code",
   "execution_count": null,
   "metadata": {},
   "outputs": [],
   "source": []
  },
  {
   "cell_type": "markdown",
   "metadata": {},
   "source": [
    "|구분|타입1|타입2|\n",
    "|-|-|-|\n",
    "|유형1|RT|TR|\n",
    "|유형2|CF|FC|\n",
    "|유형3|JM|MJ|\n",
    "|유형4|AN|NA|\n",
    "\n",
    "<br>\n",
    "4개의 지표가 있으므로 성격 유형은 총 16(=2 x 2 x 2 x 2)가지가 나올 수 있습니다.<br>\n",
    "예를 들어, \"RFMN\"이나 \"TCMA\"와 같은 성격 유형이 있습니다.<br>\n",
    "검사지에는 총 n개의 질문이 있고, 각 질문에는 아래와 같은 7개의 선택지가 있습니다.<br>\n",
    "<br>\n",
    "예시(NA형)<br>\n",
    "\n",
    "|선택지|성격 유형 점수|\n",
    "|-|-|\n",
    "|매우 비동의|네오형 3점|\n",
    "|비동의|네오형 2점|\n",
    "|약간 비동의|네오형 1점|\n",
    "|모르겠음|어떤 성격 유형도 점수를 얻지 않습니다|\n",
    "|약간 동의|어피치형 1점|\n",
    "|동의|어피치형 2점|\n",
    "|매우 동의|어피치형 3점|\n",
    "\n",
    "<br>\n",
    "<br>\n",
    "\n",
    "```\n",
    "1 ≤ survey의 길이 ( = n) ≤ 1,000\n",
    "survey의 원소는 \"RT\", \"TR\", \"FC\", \"CF\", \"MJ\", \"JM\", \"AN\", \"NA\" 중 하나\n",
    "survey[i]의 첫 번째 캐릭터는 i+1번 질문의 비동의 관련 선택지\n",
    "survey[i]의 두 번째 캐릭터는 i+1번 질문의 동의 관련 선택지\n",
    "choices의 길이 = survey의 길이\n",
    "\n",
    "choices[i]는 검사자가 선택한 i+1번째 질문의 선택지를 의미합니다.\n",
    "1 ≤ choices의 원소 ≤ 7\n",
    "```\n",
    "|choices|뜻|\n",
    "|-|-|\n",
    "|1|매우 비동의|\n",
    "|2|비동의|\n",
    "|3|약간 비동의|\n",
    "|4|모르겠음|\n",
    "|5|약간 동의|\n",
    "|6|동의|\n",
    "|7|매우 동의|\n"
   ]
  },
  {
   "cell_type": "markdown",
   "metadata": {},
   "source": [
    "#### 성격유형(RT,CF,MJ,AN)별로 점수를 기록해놓고, survey 인덱싱으로 점수 누적\n",
    "#### 마지막에 dict.keys(), for 문을 통해 비교"
   ]
  },
  {
   "cell_type": "code",
   "execution_count": 6,
   "metadata": {},
   "outputs": [],
   "source": [
    "survey=['AN', 'CF', 'MJ', 'RT', 'NA']\n",
    "choice=[5, 3, 2, 7, 5]"
   ]
  },
  {
   "cell_type": "code",
   "execution_count": 12,
   "metadata": {},
   "outputs": [],
   "source": [
    "MBTI={'R':0,'T':0,'C':0,'F':0,'M':0,'J':0,'A':0,'N':0}\n",
    "point={1:3,2:2,3:1,4:0,5:1,6:2,7:3}\n",
    "answer=''"
   ]
  },
  {
   "cell_type": "code",
   "execution_count": 13,
   "metadata": {},
   "outputs": [
    {
     "name": "stdout",
     "output_type": "stream",
     "text": [
      "{'R': 0, 'T': 0, 'C': 0, 'F': 0, 'M': 0, 'J': 0, 'A': 0, 'N': 1}\n",
      "{'R': 0, 'T': 0, 'C': 1, 'F': 0, 'M': 0, 'J': 0, 'A': 0, 'N': 1}\n",
      "{'R': 0, 'T': 0, 'C': 1, 'F': 0, 'M': 2, 'J': 0, 'A': 0, 'N': 1}\n",
      "{'R': 0, 'T': 3, 'C': 1, 'F': 0, 'M': 2, 'J': 0, 'A': 0, 'N': 1}\n",
      "{'R': 0, 'T': 3, 'C': 1, 'F': 0, 'M': 2, 'J': 0, 'A': 1, 'N': 1}\n",
      "\n",
      "누적 결과:  {'R': 0, 'T': 3, 'C': 1, 'F': 0, 'M': 2, 'J': 0, 'A': 1, 'N': 1}\n",
      "T\n",
      "TC\n",
      "TCM\n",
      "TCMA\n",
      "\n",
      "성격 유형 검사 결과:  TCMA\n"
     ]
    }
   ],
   "source": [
    "for s,c in zip(survey,choice):\n",
    "    if c==4:\n",
    "        pass\n",
    "    elif c<4:\n",
    "        MBTI[s[0]]+=point[c]\n",
    "    else:\n",
    "        MBTI[s[1]]+=point[c]\n",
    "    print(MBTI)\n",
    "print('\\n누적 결과: ',MBTI)\n",
    "\n",
    "for i,j in zip(list(MBTI.keys())[0::2],list(MBTI.keys())[1::2]):\n",
    "    if MBTI[i]==MBTI[j]:\n",
    "        answer+=min(i,j)\n",
    "    elif MBTI[i]>MBTI[j]:\n",
    "        answer+=i\n",
    "    else:\n",
    "        answer+=j\n",
    "    print(answer)\n",
    "print('\\n성격 유형 검사 결과: ',answer)"
   ]
  },
  {
   "cell_type": "code",
   "execution_count": 14,
   "metadata": {},
   "outputs": [
    {
     "data": {
      "text/plain": [
       "'TCMA'"
      ]
     },
     "execution_count": 14,
     "metadata": {},
     "output_type": "execute_result"
    }
   ],
   "source": [
    "answer"
   ]
  }
 ],
 "metadata": {
  "kernelspec": {
   "display_name": "Python 3",
   "language": "python",
   "name": "python3"
  },
  "language_info": {
   "codemirror_mode": {
    "name": "ipython",
    "version": 3
   },
   "file_extension": ".py",
   "mimetype": "text/x-python",
   "name": "python",
   "nbconvert_exporter": "python",
   "pygments_lexer": "ipython3",
   "version": "3.7.6"
  }
 },
 "nbformat": 4,
 "nbformat_minor": 4
}
