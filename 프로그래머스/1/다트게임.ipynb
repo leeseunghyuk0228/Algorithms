{
 "cells": [
  {
   "cell_type": "markdown",
   "metadata": {},
   "source": [
    "# 다트게임"
   ]
  },
  {
   "cell_type": "markdown",
   "metadata": {},
   "source": [
    "카카오톡 게임별의 하반기 신규 서비스로 다트 게임을 출시하기로 했다.<br>\n",
    "다트 게임은 다트판에 다트를 세 차례 던져 그 점수의 합계로 실력을 겨루는 게임으로,모두가 간단히 즐길 수 있다.<br>\n",
    "갓 입사한 무지는 코딩 실력을 인정받아 게임의 핵심 부분인 점수 계산 로직을 맡게 되었다. <br>다트 게임의 점수 계산 로직은 아래와 같다.\n",
    "<br><br>\n",
    "\n",
    "##### 1.다트 게임은 총 3번의 기회로 구성된다.<br>\n",
    "##### 2.각 기회마다 얻을 수 있는 점수는 0점에서 10점까지이다.<br>\n",
    "##### 3.점수와 함께 Single(S), Double(D), Triple(T) 영역이 존재하고 각 영역 당첨 시 점수에서 1제곱, 2제곱, 3제곱 (점수1 , 점수2 , 점수3 )으로 계산된다.<br>\n",
    "##### 4.옵션으로 스타상(*) , 아차상(#)이 존재하며 스타상(*) 당첨 시 해당 점수와 바로 전에 얻은 점수를 각 2배로 만든다. 아차상(#) 당첨 시 해당 점수는 마이너스된다.<br>\n",
    "##### 5.스타상(*)은 첫 번째 기회에서도 나올 수 있다. 이 경우 첫 번째 스타상(*)의 점수만 2배가 된다. (예제 4번 참고)<br>\n",
    "##### 6.스타상(*)의 효과는 다른 스타상(*)의 효과와 중첩될 수 있다. 이 경우 중첩된 스타상(*) 점수는 4배가 된다. (예제 4번 참고)<br>\n",
    "##### 7.스타상(*)의 효과는 아차상(#)의 효과와 중첩될 수 있다. 이 경우 중첩된 아차상(#)의 점수는 -2배가 된다. (예제 5번 참고)<br>\n",
    "##### 8.Single(S), Double(D), Triple(T)은 점수마다 하나씩 존재한다.<br>\n",
    "##### 9.스타상(*), 아차상(#)은 점수마다 둘 중 하나만 존재할 수 있으며, 존재하지 않을 수도 있다.<br>\n",
    "##### 10.0~10의 정수와 문자 S, D, T, *, #로 구성된 문자열이 입력될 시 총점수를 반환하는 함수를 작성하라.<br>\n"
   ]
  },
  {
   "cell_type": "markdown",
   "metadata": {},
   "source": [
    "입출력 예제\n",
    "<br>\n",
    "\n",
    "|예제|dartResult|answer|설명|\n",
    "|-|-|-|-|\n",
    "|1|1S2D*3T|37|11 * 2 + 22 * 2 + 33|\n",
    "|2|1D2S#10S|9|12 + 21 * (-1) + 101|\n",
    "|3|1D2S0T|3|12 + 21 + 03|\n",
    "|4|1S*2T*3S|23|11 * 2 * 2 + 23 * 2 + 31|\n",
    "|5|1D#2S*3S|5|12 * (-1) * 2 + 21 * 2 + 31|\n",
    "|6|1T2D3D#|-4|13 + 22 + 32 * (-1)|\n",
    "|7|1D2S3T*|59|12 + 21 * 2 + 33 * 2|"
   ]
  },
  {
   "cell_type": "code",
   "execution_count": 3,
   "metadata": {},
   "outputs": [],
   "source": [
    "def solution(s):\n",
    "    import re\n",
    "\n",
    "    \n",
    "    ex={'S':'**1','D':'**2','T':'**3','#':'*(-1)'}\n",
    "\n",
    "    point=re.findall('(\\d{1,2}[a-zA-Z]{1,2}\\*?\\#?)',s)\n",
    "\n",
    "    for i in [1,2]:\n",
    "        if '*' in point[i]:\n",
    "            point[i-1]=point[i-1]+'*'\n",
    "    answer='+'.join(point)\n",
    "    answer=answer.replace('*','*2')\n",
    "\n",
    "    for e in ex.keys():\n",
    "        answer=answer.replace(e,ex[e])\n",
    "    return eval(answer)"
   ]
  }
 ],
 "metadata": {
  "kernelspec": {
   "display_name": "Python 3",
   "language": "python",
   "name": "python3"
  },
  "language_info": {
   "codemirror_mode": {
    "name": "ipython",
    "version": 3
   },
   "file_extension": ".py",
   "mimetype": "text/x-python",
   "name": "python",
   "nbconvert_exporter": "python",
   "pygments_lexer": "ipython3",
   "version": "3.7.6"
  }
 },
 "nbformat": 4,
 "nbformat_minor": 4
}
