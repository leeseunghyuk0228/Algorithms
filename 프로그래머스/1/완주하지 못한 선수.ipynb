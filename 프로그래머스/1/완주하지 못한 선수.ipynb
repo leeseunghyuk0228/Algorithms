{
 "cells": [
  {
   "cell_type": "markdown",
   "metadata": {},
   "source": [
    "# 완주하지 못한 선수"
   ]
  },
  {
   "cell_type": "markdown",
   "metadata": {},
   "source": [
    "마라톤에 참여한 선수들의 이름이 담긴 배열 participant<br>\n",
    "완주한 선수들의 이름이 담긴 배열 completion이 주어질 때, <br>\n",
    "***완주하지 못한 선수의 이름을 return*** 하도록 solution 함수를 작성해주세요.<br>\n",
    "<br>\n",
    "\n",
    "제한사항<br>\n",
    "```\n",
    "마라톤 경기에 참여한 선수의 수는 1명 이상 100,000명 이하입니다.\n",
    "completion의 길이는 participant의 길이보다 1 작습니다.\n",
    "참가자의 이름은 1개 이상 20개 이하의 알파벳 소문자로 이루어져 있습니다.\n",
    "참가자 중에는 동명이인이 있을 수 있습니다.\n",
    "```\n"
   ]
  },
  {
   "cell_type": "markdown",
   "metadata": {},
   "source": [
    "입출력 예\n",
    "\n",
    "|participant|completion|return|\n",
    "|-|-|-|\n",
    "|[\"leo\", \"kiki\", \"eden\"]|[\"eden\", \"kiki\"]|\"leo\"|\n",
    "|[\"marina\", \"josipa\", \"nikola\", \"vinko\", \"filipa\"]|[\"josipa\", \"filipa\", \"marina\", \"nikola\"]|\"vinko\"|\n",
    "|[\"mislav\", \"stanko\", \"mislav\", \"ana\"]|[\"stanko\", \"ana\", \"mislav\"]|\"mislav\"|"
   ]
  },
  {
   "cell_type": "markdown",
   "metadata": {},
   "source": [
    "#### participant(참가자) 안에 completion 모두 있음\n",
    "#### completion 안에 없는 1명만 찾아내면 됨\n",
    "#### 동명이인 << 관건\n",
    "#### 두 리스트를 모두 정렬, for & zip으로 대조\n",
    "#### 서로 다르다면, 참가자가 완주 못한 것\n",
    "#### 마지막 사람이 완주 못했을 경우만 따로 return\n",
    "#### 참가자가 1명 더 많으므로 마지막 참가자가 완주 못한것"
   ]
  },
  {
   "cell_type": "code",
   "execution_count": 1,
   "metadata": {},
   "outputs": [],
   "source": [
    "def solution(참가자, 완주자):\n",
    "    참가자.sort()\n",
    "    완주자.sort()\n",
    "    \n",
    "    for 참가,완주 in zip(참가자,완주자):\n",
    "        if 참가!=완주:\n",
    "            return 참가\n",
    "        \n",
    "    return 참가자[-1]"
   ]
  },
  {
   "cell_type": "code",
   "execution_count": 2,
   "metadata": {},
   "outputs": [
    {
     "data": {
      "text/plain": [
       "'mislav'"
      ]
     },
     "execution_count": 2,
     "metadata": {},
     "output_type": "execute_result"
    }
   ],
   "source": [
    "참가자=[\"mislav\", \"stanko\", \"mislav\", \"ana\"]\n",
    "완주자=[\"stanko\", \"ana\", \"mislav\"]\n",
    "solution(참가자,완주자)"
   ]
  }
 ],
 "metadata": {
  "kernelspec": {
   "display_name": "Python 3",
   "language": "python",
   "name": "python3"
  },
  "language_info": {
   "codemirror_mode": {
    "name": "ipython",
    "version": 3
   },
   "file_extension": ".py",
   "mimetype": "text/x-python",
   "name": "python",
   "nbconvert_exporter": "python",
   "pygments_lexer": "ipython3",
   "version": "3.7.6"
  }
 },
 "nbformat": 4,
 "nbformat_minor": 4
}
