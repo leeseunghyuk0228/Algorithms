{
 "cells": [
  {
   "cell_type": "markdown",
   "metadata": {},
   "source": [
    "# 로또 최고&최저 순위\n",
    "<br>\n",
    "\n",
    "|순위|당첨 내용|\n",
    "|-|-|\n",
    "|1|6개 번호가 모두 일치|\n",
    "|2|5개 번호가 일치|\n",
    "|3|4개 번호가 일치|\n",
    "|4|3개 번호가 일치|\n",
    "|5|2개 번호가 일치|\n",
    "|6(낙첨)|그 외|\n",
    "\n",
    "```\n",
    "민우가 구매한 로또 번호를 담은 배열 lottos, \n",
    "당첨 번호를 담은 배열 win_nums가 매개변수로 주어집니다. 이때, \n",
    "당첨 가능한 최고 순위와 최저 순위를 차례대로 배열에 담아서\n",
    "return 하도록 solution 함수를 완성해주세요.\n",
    "```\n",
    "\n",
    "<br>\n",
    "입출력 예\n",
    "\n",
    "|lottos|win_nums|result|\n",
    "|-|-|-|\n",
    "|[44, 1, 0, 0, 31, 25]|[31, 10, 45, 1, 6, 19]|[3, 5]|\n",
    "|[0, 0, 0, 0, 0, 0]|[38, 19, 20, 40, 15, 25]|[1, 6]|\n",
    "|[45, 4, 35, 20, 3, 9]|[20, 9, 3, 45, 4, 35]|[1, 1]|\n",
    "\n"
   ]
  },
  {
   "cell_type": "markdown",
   "metadata": {},
   "source": [
    "1. 로또 0이 다 맞음 + 당첨숫자 --> 최고 등수<br>\n",
    "2. 로또 0이 다 틀림 + 당첨숫자 --> 최저 등수<br>\n",
    ": 공통적으로 당첨 숫자의 개수는 반드시 적용되고, 0의 개수에 따라서 달라짐<br>\n",
    ":: 당첨 숫자 먼저 확인,  최저 등수<br>\n",
    ":: 당첨 숫자 + 0 개수, 최고 등수<br>\n",
    "::: if ans > 1 : ans=7-ans<br>\n",
    "    else : ans=6<br>"
   ]
  },
  {
   "cell_type": "code",
   "execution_count": 29,
   "metadata": {},
   "outputs": [],
   "source": [
    "# 로또 순위를 리스트로\n",
    "def solution(lottos,win):\n",
    "    score=[6,6,5,4,3,2,1]\n",
    "    ### score 인덱스 = 맞춘 개수\n",
    "    cnt_0=lottos.count(0)\n",
    "    cnt_w=sum([1 for l in lottos if l in win])\n",
    "\n",
    "    return score[cnt_0+cnt_w],score[cnt_w]"
   ]
  },
  {
   "cell_type": "code",
   "execution_count": 25,
   "metadata": {},
   "outputs": [],
   "source": [
    "lottos=[44,1,0,0,31,25]\n",
    "win=[31,10,45,1,6,19]\n",
    "\n",
    "def solution(lottos,win):\n",
    "    # 당첨 숫자 개수(최저등수)\n",
    "    ans1=sum([1 for l in lottos if l in win])\n",
    "    # 0의 개수(최고등수)\n",
    "    ans2=ans1+lottos.count(0)\n",
    "\n",
    "    if ans1>1: ans1=7-ans1\n",
    "    else: ans1=6\n",
    "\n",
    "    if ans2>1: ans2=7-ans2\n",
    "    else: ans2=6\n",
    "\n",
    "    return [ans2,ans1]"
   ]
  },
  {
   "cell_type": "code",
   "execution_count": 30,
   "metadata": {},
   "outputs": [
    {
     "data": {
      "text/plain": [
       "(3, 5)"
      ]
     },
     "execution_count": 30,
     "metadata": {},
     "output_type": "execute_result"
    }
   ],
   "source": [
    "solution(lottos,win)"
   ]
  }
 ],
 "metadata": {
  "kernelspec": {
   "display_name": "Python 3",
   "language": "python",
   "name": "python3"
  },
  "language_info": {
   "codemirror_mode": {
    "name": "ipython",
    "version": 3
   },
   "file_extension": ".py",
   "mimetype": "text/x-python",
   "name": "python",
   "nbconvert_exporter": "python",
   "pygments_lexer": "ipython3",
   "version": "3.7.6"
  }
 },
 "nbformat": 4,
 "nbformat_minor": 4
}
