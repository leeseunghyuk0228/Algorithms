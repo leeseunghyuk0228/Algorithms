{
 "cells": [
  {
   "cell_type": "markdown",
   "metadata": {},
   "source": [
    "# 예상 대진표"
   ]
  },
  {
   "cell_type": "markdown",
   "metadata": {},
   "source": [
    "△△ 게임대회가 개최되었습니다. 이 대회는 N명이 참가하고, 토너먼트 형식으로 진행됩니다. <br>\n",
    "N명의 참가자는 각각 1부터 N번을 차례대로 배정받습니다. <br>\n",
    "그리고, 1번↔2번, 3번↔4번, ... , N-1번↔N번의 참가자끼리 게임을 진행합니다.<br>\n",
    "각 게임에서 이긴 사람은 다음 라운드에 진출할 수 있습니다. <br>\n",
    "이때, 다음 라운드에 진출할 참가자의 번호는 다시 1번부터 N/2번을 차례대로 배정받습니다. <br>\n",
    "만약 1번↔2번 끼리 겨루는 게임에서 2번이 승리했다면 다음 라운드에서 1번을 부여받고, <br>\n",
    "3번↔4번에서 겨루는 게임에서 3번이 승리했다면 다음 라운드에서 2번을 부여받게 됩니다. <br>\n",
    "게임은 최종 한 명이 남을 때까지 진행됩니다.<br>"
   ]
  },
  {
   "cell_type": "markdown",
   "metadata": {},
   "source": [
    "제한사항<br>\n",
    "N : 21 이상 220 이하인 자연수 (2의 지수 승으로 주어지므로 부전승은 발생하지 않습니다.)<br>\n",
    "A, B : N 이하인 자연수 (단, A ≠ B 입니다.)<br>\n"
   ]
  },
  {
   "cell_type": "markdown",
   "metadata": {},
   "source": [
    "입출력 예<br>\n",
    "\n",
    "|N|A|B|answer|\n",
    "|-|-|-|-|\n",
    "|8|4|7|3|"
   ]
  },
  {
   "cell_type": "code",
   "execution_count": 3,
   "metadata": {},
   "outputs": [],
   "source": [
    "def solution(t,a,b):\n",
    "    if t==2: return 1\n",
    "    \n",
    "    a,b,cnt=a-1,b-1,0\n",
    "    \n",
    "    while 1:\n",
    "        if a//2==b//2: return cnt+1\n",
    "        else:\n",
    "            a,b,cnt=a//2,b//2,cnt+1"
   ]
  }
 ],
 "metadata": {
  "kernelspec": {
   "display_name": "Python 3",
   "language": "python",
   "name": "python3"
  },
  "language_info": {
   "codemirror_mode": {
    "name": "ipython",
    "version": 3
   },
   "file_extension": ".py",
   "mimetype": "text/x-python",
   "name": "python",
   "nbconvert_exporter": "python",
   "pygments_lexer": "ipython3",
   "version": "3.7.6"
  }
 },
 "nbformat": 4,
 "nbformat_minor": 4
}
