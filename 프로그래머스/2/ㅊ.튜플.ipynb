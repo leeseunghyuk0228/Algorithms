{
 "cells": [
  {
   "cell_type": "markdown",
   "metadata": {},
   "source": [
    "# 튜플"
   ]
  },
  {
   "cell_type": "markdown",
   "metadata": {},
   "source": [
    "예를 들어 튜플이 (2, 1, 3, 4)인 경우 이는<br><br>\n",
    "\n",
    "{{2}, {2, 1}, {2, 1, 3}, {2, 1, 3, 4}}<br>\n",
    "와 같이 표현할 수 있습니다. 이때, 집합은 원소의 순서가 바뀌어도 상관없으므로<br><br>\n",
    "\n",
    "{{2}, {2, 1}, {2, 1, 3}, {2, 1, 3, 4}}<br>\n",
    "{{2, 1, 3, 4}, {2}, {2, 1, 3}, {2, 1}}<br>\n",
    "{{1, 2, 3}, {2, 1}, {1, 2, 4, 3}, {2}}<br>\n",
    "는 모두 같은 튜플 (2, 1, 3, 4)를 나타냅니다.<br>\n",
    "<br>\n",
    "특정 튜플을 표현하는 집합이 담긴 문자열 s가 매개변수로 주어질 때, <br>\n",
    "s가 표현하는 튜플을 배열에 담아 return 하도록 solution 함수를 완성해주세요."
   ]
  },
  {
   "cell_type": "markdown",
   "metadata": {},
   "source": [
    "|s|result|\n",
    "|-|-|\n",
    "|\"{{2},{2,1},{2,1,3},{2,1,3,4}}\"|[2, 1, 3, 4]|\n",
    "|\"{{1,2,3},{2,1},{1,2,4,3},{2}}\"|[2, 1, 3, 4]|\n",
    "|\"{{20,111},{111}}\"|[111, 20]|\n",
    "|\"{{123}}\"|[123]|\n",
    "|\"{{4,2,3},{3},{2,3,4,1},{2,3}}\"|[3, 2, 4, 1]|"
   ]
  },
  {
   "cell_type": "code",
   "execution_count": 8,
   "metadata": {},
   "outputs": [],
   "source": [
    "import re\n",
    "\n",
    "def solution(s):\n",
    "    p=re.compile('{|}')\n",
    "    s=p.sub(string=s,repl=' ').strip().split(' , ')\n",
    "    res=[0]*len(s)\n",
    "    \n",
    "    data=[d for i in s for d in i.split(',')]\n",
    "    \n",
    "    for check in list(set(data)):\n",
    "        res[len(s) - data.count(check)]=int(check)\n",
    "    return res\n",
    "        "
   ]
  },
  {
   "cell_type": "code",
   "execution_count": 6,
   "metadata": {},
   "outputs": [],
   "source": [
    "from collections import Counter\n",
    "import re\n",
    "\n",
    "def solution(s):\n",
    "    s = Counter(re.findall('\\d+', s))\n",
    "    data=[int(k) for k, v in sorted(s.items(), key=lambda x: x[1],reverse=True)]\n",
    "    return data"
   ]
  },
  {
   "cell_type": "code",
   "execution_count": 9,
   "metadata": {},
   "outputs": [
    {
     "data": {
      "text/plain": [
       "[2, 1, 3, 4]"
      ]
     },
     "execution_count": 9,
     "metadata": {},
     "output_type": "execute_result"
    }
   ],
   "source": [
    "solution(\"{{2},{2,1},{2,1,3},{2,1,3,4}}\")"
   ]
  }
 ],
 "metadata": {
  "kernelspec": {
   "display_name": "Python 3",
   "language": "python",
   "name": "python3"
  },
  "language_info": {
   "codemirror_mode": {
    "name": "ipython",
    "version": 3
   },
   "file_extension": ".py",
   "mimetype": "text/x-python",
   "name": "python",
   "nbconvert_exporter": "python",
   "pygments_lexer": "ipython3",
   "version": "3.7.6"
  }
 },
 "nbformat": 4,
 "nbformat_minor": 4
}
