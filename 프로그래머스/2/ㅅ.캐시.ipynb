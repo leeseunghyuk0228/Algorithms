{
 "cells": [
  {
   "cell_type": "markdown",
   "metadata": {},
   "source": [
    "# 캐시"
   ]
  },
  {
   "cell_type": "markdown",
   "metadata": {},
   "source": [
    "입력 형식<br>\n",
    "캐시 크기(cacheSize)와 도시이름 배열(cities)을 입력받는다.<br>\n",
    "cacheSize는 정수이며, 범위는 0 ≦ cacheSize ≦ 30 이다.<br>\n",
    "cities는 도시 이름으로 이뤄진 문자열 배열로, 최대 도시 수는 100,000개이다.<br>\n",
    "각 도시 이름은 공백, 숫자, 특수문자 등이 없는 영문자로 구성되며, 대소문자 구분을 하지 않는다.<br>\n",
    "도시 이름은 최대 20자로 이루어져 있다.<br>\n",
    "<br>\n",
    "출력 형식<br>\n",
    "입력된 도시이름 배열을 순서대로 처리할 때, \"총 실행시간\"을 출력한다.<br>"
   ]
  },
  {
   "cell_type": "markdown",
   "metadata": {},
   "source": [
    "조건<br><br>\n",
    "캐시 교체 알고리즘은 LRU(Least Recently Used)를 사용한다.<br>\n",
    "cache hit일 경우 실행시간은 1이다.<br>\n",
    "cache miss일 경우 실행시간은 5이다.<br>"
   ]
  },
  {
   "cell_type": "markdown",
   "metadata": {},
   "source": [
    "입출력 예제<br>\n",
    "\n",
    "|캐시크기(cacheSize)|도시이름(cities)|실행시간|\n",
    "|-|-|-|\n",
    "|3|[\"Jeju\", \"Pangyo\", \"Seoul\", \"NewYork\", \"LA\", \"Jeju\", \"Pangyo\", \"Seoul\", \"NewYork\", \"LA\"]|50|\n",
    "|3|[\"Jeju\", \"Pangyo\", \"Seoul\", \"Jeju\", \"Pangyo\", \"Seoul\", \"Jeju\", \"Pangyo\", \"Seoul\"]|21|\n",
    "|2|[\"Jeju\", \"Pangyo\", \"Seoul\", \"NewYork\", \"LA\", \"SanFrancisco\", \"Seoul\", \"Rome\", \"Paris\", \"Jeju\", \"NewYork\", \"Rome\"]|60|\n",
    "|5|[\"Jeju\", \"Pangyo\", \"Seoul\", \"NewYork\", \"LA\", \"SanFrancisco\", \"Seoul\", \"Rome\", \"Paris\", \"Jeju\", \"NewYork\", \"Rome\"]|52|\n",
    "|2|[\"Jeju\", \"Pangyo\", \"NewYork\", \"newyork\"]|16|\n",
    "|0|[\"Jeju\", \"Pangyo\", \"Seoul\", \"NewYork\", \"LA\"]|25|"
   ]
  },
  {
   "cell_type": "markdown",
   "metadata": {},
   "source": [
    "# deque 예제\n",
    "https://codetorial.net/python/collections_deque.html"
   ]
  },
  {
   "cell_type": "code",
   "execution_count": 2,
   "metadata": {},
   "outputs": [],
   "source": [
    "def solution(size, cities):\n",
    "    if size==0: return 5*len(cities)\n",
    "    \n",
    "    city=[c.upper() for c in cities]\n",
    "    time,db=0,[]\n",
    "    \n",
    "    for i in city:\n",
    "        if i in db: \n",
    "            db.remove(i)\n",
    "            db.append(i)\n",
    "            time+=1\n",
    "        else:\n",
    "            time+=5\n",
    "            db.append(i)\n",
    "            if len(db)>size: db=db[1:]\n",
    "    return time\n",
    "        \n"
   ]
  },
  {
   "cell_type": "code",
   "execution_count": null,
   "metadata": {},
   "outputs": [],
   "source": [
    "# deque 사용 코드, 크기 제한을 걸 수 있는듯??\n",
    "def solution(cacheSize, cities):\n",
    "    import collections\n",
    "    cache = collections.deque(maxlen=cacheSize)\n",
    "    time = 0\n",
    "    for i in cities:\n",
    "        s = i.lower()\n",
    "        if s in cache:\n",
    "            cache.remove(s)\n",
    "            cache.append(s)\n",
    "            time += 1\n",
    "        else:\n",
    "            cache.append(s)\n",
    "            time += 5\n",
    "    return time"
   ]
  }
 ],
 "metadata": {
  "kernelspec": {
   "display_name": "Python 3",
   "language": "python",
   "name": "python3"
  },
  "language_info": {
   "codemirror_mode": {
    "name": "ipython",
    "version": 3
   },
   "file_extension": ".py",
   "mimetype": "text/x-python",
   "name": "python",
   "nbconvert_exporter": "python",
   "pygments_lexer": "ipython3",
   "version": "3.7.6"
  }
 },
 "nbformat": 4,
 "nbformat_minor": 4
}
