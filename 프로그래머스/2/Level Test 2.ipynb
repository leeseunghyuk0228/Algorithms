{
 "cells": [
  {
   "cell_type": "markdown",
   "metadata": {},
   "source": [
    "# Level2 Test-1 프린트 우선순위"
   ]
  },
  {
   "cell_type": "markdown",
   "metadata": {},
   "source": [
    "일반적인 프린터는 인쇄 요청이 들어온 순서대로 인쇄합니다. 그렇기 때문에 중요한 문서가 나중에 인쇄될 수 있습니다. 이런 문제를 보완하기 위해 중요도가 높은 문서를 먼저 인쇄하는 프린터를 개발했습니다. 이 새롭게 개발한 프린터는 아래와 같은 방식으로 인쇄 작업을 수행합니다.<br>\n",
    "<br>\n",
    "1. 인쇄 대기목록의 가장 앞에 있는 문서(J)를 대기목록에서 꺼냅니다.<br>\n",
    "2. 나머지 인쇄 대기목록에서 J보다 중요도가 높은 문서가 한 개라도 존재하면 J를 대기목록의 가장 마지막에 넣습니다.<br>\n",
    "3. 그렇지 않으면 J를 인쇄합니다.<br>\n",
    "예를 들어, 4개의 문서(A, B, C, D)가 순서대로 인쇄 대기목록에 있고 중요도가 2 1 3 2 라면 C D A B 순으로 인쇄하게 됩니다.<br>\n",
    "<br>\n",
    "내가 인쇄를 요청한 문서가 몇 번째로 인쇄되는지 알고 싶습니다. 위의 예에서 C는 1번째로, A는 3번째로 인쇄됩니다.<br>\n",
    "<br>\n",
    "현재 대기목록에 있는 문서의 중요도가 순서대로 담긴 배열 priorities와 내가 인쇄를 요청한 문서가 현재 대기목록의 어떤 위치에 있는지를 알려주는 location이 매개변수로 주어질 때, 내가 인쇄를 요청한 문서가 몇 번째로 인쇄되는지 return 하도록 solution 함수를 작성해주세요.<br>\n",
    "<br>\n"
   ]
  },
  {
   "cell_type": "markdown",
   "metadata": {},
   "source": [
    "<br>제한사항\n",
    "현재 대기목록에는 1개 이상 100개 이하의 문서가 있습니다.<br>\n",
    "인쇄 작업의 중요도는 1~9로 표현하며 숫자가 클수록 중요하다는 뜻입니다.<br>\n",
    "location은 0 이상 (현재 대기목록에 있는 작업 수 - 1) 이하의 값을 가지며 대기목록의 가장 앞에 있으면 0, 두 번째에 있으면 1로 표현합니다.<br>\n",
    "\n",
    "입출력 예<br>\n",
    "\n",
    "|priorities|location|return|\n",
    "|-|-|-\n",
    "|[2, 1, 3, 2]|2|1|\n",
    "|[1, 1, 9, 1, 1, 1]|0|5|"
   ]
  },
  {
   "cell_type": "code",
   "execution_count": 2,
   "metadata": {},
   "outputs": [],
   "source": [
    "def solution(p, l):\n",
    "    if len(p)==1:\n",
    "        return 1\n",
    "    cnt=0\n",
    "    n_p=[str(idx)+' '+str(i) for idx,i in enumerate(p)]\n",
    "    \n",
    "    while 1:\n",
    "        n=n_p.pop(0)\n",
    "        tmp_idx,tmp_num=int(n.split(' ')[0]),int(n.split(' ')[1])\n",
    "        \n",
    "        if max(list(map(lambda x:int(x.split(' ')[1]),n_p)))>tmp_num:\n",
    "            n_p.append(n)\n",
    "            \n",
    "        elif max(list(map(lambda x:int(x.split(' ')[1]),n_p)))<=tmp_num and tmp_idx==l:\n",
    "            cnt+=1\n",
    "            return cnt\n",
    "        \n",
    "        else:\n",
    "            cnt+=1\n",
    "        \n",
    "        if len(n_p)==1:\n",
    "            return cnt+1"
   ]
  }
 ],
 "metadata": {
  "kernelspec": {
   "display_name": "Python 3",
   "language": "python",
   "name": "python3"
  },
  "language_info": {
   "codemirror_mode": {
    "name": "ipython",
    "version": 3
   },
   "file_extension": ".py",
   "mimetype": "text/x-python",
   "name": "python",
   "nbconvert_exporter": "python",
   "pygments_lexer": "ipython3",
   "version": "3.5.6"
  }
 },
 "nbformat": 4,
 "nbformat_minor": 4
}
