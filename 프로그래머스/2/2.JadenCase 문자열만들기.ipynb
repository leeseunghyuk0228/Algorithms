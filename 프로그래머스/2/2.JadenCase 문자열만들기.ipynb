{
 "cells": [
  {
   "cell_type": "markdown",
   "metadata": {},
   "source": [
    "# JadenCase 문자열"
   ]
  },
  {
   "cell_type": "markdown",
   "metadata": {},
   "source": [
    "JadenCase란 모든 단어의 첫  문자가 대문자이고, 그 외의 알파벳은 소문자인 문자열입니다.<br>\n",
    "단, 첫 문자가 알파벳이 아닐 때에는 이어지는 알파벳은 소문자로 쓰면 됩니다. (첫 번째 입출력 예 참고)<br>\n",
    "문자열 s가 주어졌을 때, s를 JadenCase로 바꾼 문자열을 리턴하는 함수, solution을 완성해주세요.<br>"
   ]
  },
  {
   "cell_type": "markdown",
   "metadata": {},
   "source": [
    "제한 조건<br>\n",
    "s는 길이 1 이상 200 이하인 문자열입니다.<br>\n",
    "s는 알파벳과 숫자, 공백문자(\" \")로 이루어져 있습니다.<br>\n",
    "숫자는 단어의 첫 문자로만 나옵니다.<br>\n",
    "숫자로만 이루어진 단어는 없습니다.<br>\n",
    "공백문자가 연속해서 나올 수 있습니다.<br><br>\n",
    "\n",
    "입출력 예<br>\n",
    "\n",
    "|s|return|\n",
    "|-|-|\n",
    "|\"3people unFollowed me\"|\"3people Unfollowed Me\"|\n",
    "|\"for the last week\"|\"For The Last Week\"|"
   ]
  },
  {
   "cell_type": "code",
   "execution_count": 1,
   "metadata": {},
   "outputs": [],
   "source": [
    "def solution(s):\n",
    "    ans=''\n",
    "    for i in s.split(' '):\n",
    "        try:\n",
    "            ans+=i[0].upper()\n",
    "            ans+=i.lower()[1:]\n",
    "            ans+=' '\n",
    "        except:\n",
    "            ans+=' '\n",
    "    return ans[:-1]"
   ]
  },
  {
   "cell_type": "code",
   "execution_count": 2,
   "metadata": {},
   "outputs": [
    {
     "data": {
      "text/plain": [
       "'3people Unfollowed Me'"
      ]
     },
     "execution_count": 2,
     "metadata": {},
     "output_type": "execute_result"
    }
   ],
   "source": [
    "s=\"3people unFollowed me\"\n",
    "solution(s)"
   ]
  },
  {
   "cell_type": "markdown",
   "metadata": {},
   "source": [
    "# 새로 배운 함수"
   ]
  },
  {
   "cell_type": "code",
   "execution_count": 6,
   "metadata": {},
   "outputs": [
    {
     "name": "stdout",
     "output_type": "stream",
     "text": [
      "3people Unfollowed Me\n",
      "3People Unfollowed Me\n"
     ]
    }
   ],
   "source": [
    "print(' '.join([ss.capitalize() for ss in s.split(' ')]))\n",
    "print(s.title())"
   ]
  }
 ],
 "metadata": {
  "kernelspec": {
   "display_name": "Python 3",
   "language": "python",
   "name": "python3"
  },
  "language_info": {
   "codemirror_mode": {
    "name": "ipython",
    "version": 3
   },
   "file_extension": ".py",
   "mimetype": "text/x-python",
   "name": "python",
   "nbconvert_exporter": "python",
   "pygments_lexer": "ipython3",
   "version": "3.7.6"
  }
 },
 "nbformat": 4,
 "nbformat_minor": 4
}
