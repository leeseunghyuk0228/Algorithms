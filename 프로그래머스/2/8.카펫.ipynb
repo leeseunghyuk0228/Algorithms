{
 "cells": [
  {
   "cell_type": "markdown",
   "metadata": {},
   "source": [
    "# 카펫"
   ]
  },
  {
   "cell_type": "markdown",
   "metadata": {},
   "source": [
    "Leo는 카펫을 사러 갔다가 아래 그림과 같이 중앙에는 노란색으로 칠해져 있고 테두리 1줄은 갈색으로 칠해져 있는 격자 모양 카펫을 봤습니다.\n",
    "\n",
    "<img src=\"https://grepp-programmers.s3.ap-northeast-2.amazonaws.com/files/production/b1ebb809-f333-4df2-bc81-02682900dc2d/carpet.png\"  width=\"300\" height=\"300\"/> \n",
    "\n",
    "Leo는 집으로 돌아와서 아까 본 카펫의 노란색과 갈색으로 색칠된 격자의 개수는 기억했지만, 전체 카펫의 크기는 기억하지 못했습니다.\n",
    "\n",
    "Leo가 본 카펫에서 갈색 격자의 수 brown, 노란색 격자의 수 yellow가 매개변수로 주어질 때 카펫의 가로, 세로 크기를 순서대로 배열에 담아 return 하도록 solution 함수를 작성해주세요."
   ]
  },
  {
   "cell_type": "markdown",
   "metadata": {},
   "source": [
    "제한사항<br>\n",
    "갈색 격자의 수 brown은 8 이상 5,000 이하인 자연수입니다.<br>\n",
    "노란색 격자의 수 yellow는 1 이상 2,000,000 이하인 자연수입니다.<br>\n",
    "카펫의 가로 길이는 세로 길이와 같거나, 세로 길이보다 깁니다.<br>\n",
    "\n",
    "입출력 예<br>\n",
    "\n",
    "|brown|yellow|return|\n",
    "|-|-|-|\n",
    "|10|2|[4, 3]|\n",
    "|8|1|[3, 3]|\n",
    "|24|24|[8, 6]|\n"
   ]
  },
  {
   "cell_type": "code",
   "execution_count": 18,
   "metadata": {},
   "outputs": [],
   "source": [
    "def solution(b, y):   \n",
    "    ylist=[i for i in range(y,0,-1) if y%i==0]\n",
    "    for idx,yl in enumerate(ylist):\n",
    "        w=yl*2+4\n",
    "        h=ylist[-idx-1]*2\n",
    "        if w+h==b:\n",
    "            return [yl+2,ylist[-idx-1]+2]"
   ]
  },
  {
   "cell_type": "code",
   "execution_count": 19,
   "metadata": {},
   "outputs": [
    {
     "data": {
      "text/plain": [
       "[4, 3]"
      ]
     },
     "execution_count": 19,
     "metadata": {},
     "output_type": "execute_result"
    }
   ],
   "source": [
    "solution(10,2)"
   ]
  }
 ],
 "metadata": {
  "kernelspec": {
   "display_name": "Python 3",
   "language": "python",
   "name": "python3"
  },
  "language_info": {
   "codemirror_mode": {
    "name": "ipython",
    "version": 3
   },
   "file_extension": ".py",
   "mimetype": "text/x-python",
   "name": "python",
   "nbconvert_exporter": "python",
   "pygments_lexer": "ipython3",
   "version": "3.5.6"
  }
 },
 "nbformat": 4,
 "nbformat_minor": 4
}
