{
 "cells": [
  {
   "cell_type": "markdown",
   "metadata": {},
   "source": [
    "# H-index"
   ]
  },
  {
   "cell_type": "markdown",
   "metadata": {},
   "source": [
    "\n",
    "발표한 논문 n편 중, h번 이상 인용된 논문이 h편 이상이고 <br>\n",
    "나머지 논문이 h번 이하 인용되었다면 h의 최댓값이 이 과학자의 H-Index입니다.<br>\n",
    "<br>\n",
    "어떤 과학자가 발표한 논문의 인용 횟수를 담은 배열 citations가 매개변수로 주어질 때, <br>\n",
    "이 과학자의 H-Index를 return 하도록 solution 함수를 작성해주세요.<br>\n",
    "<br>\n",
    "제한사항<br>\n",
    "과학자가 발표한 논문의 수는 1편 이상 1,000편 이하입니다.<br>\n",
    "논문별 인용 횟수는 0회 이상 10,000회 이하입니다.<br>\n",
    "\n",
    "입출력 예<br>\n",
    "\n",
    "|citations|return|\n",
    "|-|-|\n",
    "|[3, 0, 6, 1, 5]|3|"
   ]
  },
  {
   "cell_type": "code",
   "execution_count": null,
   "metadata": {},
   "outputs": [],
   "source": [
    "#시간이 엄청 오래걸림\n",
    "def solution(nums):\n",
    "    big=max(nums)\n",
    "    while 1:\n",
    "        m=len(list(filter(lambda x:x>=big,nums))) # 계~속 필터 함수로 리스트 전체를 사용\n",
    "        if m>=big: return big\n",
    "        else: big-=1"
   ]
  },
  {
   "cell_type": "code",
   "execution_count": null,
   "metadata": {},
   "outputs": [],
   "source": [
    "# enumerate & index 활용한 방법\n",
    "\n",
    "def solution(nums):\n",
    "    nums=sorted(nums,reverse=True)\n",
    "    return max(map(min,enumerate(nums,start=1)))"
   ]
  }
 ],
 "metadata": {
  "kernelspec": {
   "display_name": "Python 3",
   "language": "python",
   "name": "python3"
  },
  "language_info": {
   "codemirror_mode": {
    "name": "ipython",
    "version": 3
   },
   "file_extension": ".py",
   "mimetype": "text/x-python",
   "name": "python",
   "nbconvert_exporter": "python",
   "pygments_lexer": "ipython3",
   "version": "3.7.6"
  }
 },
 "nbformat": 4,
 "nbformat_minor": 4
}
