{
 "cells": [
  {
   "cell_type": "markdown",
   "metadata": {},
   "source": [
    "# 영어 끝말잇기"
   ]
  },
  {
   "cell_type": "markdown",
   "metadata": {},
   "source": [
    "1부터 n까지 번호가 붙어있는 n명의 사람이 영어 끝말잇기를 하고 있습니다. 영어 끝말잇기는 다음과 같은 규칙으로 진행됩니다.\n",
    "<br>\n",
    "1번부터 번호 순서대로 한 사람씩 차례대로 단어를 말합니다.<br>\n",
    "마지막 사람이 단어를 말한 다음에는 다시 1번부터 시작합니다.<br>\n",
    "앞사람이 말한 단어의 마지막 문자로 시작하는 단어를 말해야 합니다.<br>\n",
    "이전에 등장했던 단어는 사용할 수 없습니다.<br>\n",
    "한 글자인 단어는 인정되지 않습니다.<br>\n",
    "다음은 3명이 끝말잇기를 하는 상황을 나타냅니다.<br><br>\n",
    "\n",
    "tank → kick → know → wheel → land → dream → mother → robot → tank<br><br>\n",
    "\n",
    "위 끝말잇기는 다음과 같이 진행됩니다.<br><br>\n",
    "\n",
    "1번 사람이 자신의 첫 번째 차례에 tank를 말합니다.<br>\n",
    "2번 사람이 자신의 첫 번째 차례에 kick을 말합니다.<br>\n",
    "3번 사람이 자신의 첫 번째 차례에 know를 말합니다.<br>\n",
    "1번 사람이 자신의 두 번째 차례에 wheel을 말합니다.<br>\n",
    "(계속 진행)<br>\n",
    "끝말잇기를 계속 진행해 나가다 보면, 3번 사람이 자신의 세 번째 차례에 말한 tank 라는 단어는 이전에 등장했던 단어이므로 탈락하게 됩니다.<br><br>\n",
    "\n",
    "사람의 수 n과 사람들이 순서대로 말한 단어 words 가 매개변수로 주어질 때, 가장 먼저 탈락하는 사람의 번호와 그 사람이 자신의 몇 번째 차례에 탈락하는지를 구해서 return 하도록 solution 함수를 완성해주세요.<br><br>"
   ]
  },
  {
   "cell_type": "markdown",
   "metadata": {},
   "source": [
    "입출력 예<br>\n",
    "\n",
    "|n|words|result|\n",
    "|-|-|-|\n",
    "|3|[\"tank\", \"kick\", \"know\", \"wheel\", \"land\", \"dream\", \"mother\", \"robot\", \"tank\"]|[3,3]|\n",
    "|5|[\"hello\", \"observe\", \"effect\", \"take\", \"either\", \"recognize\", \"encourage\", \"ensure\", \"establish\", \"hang\", \"gather\", \"refer\", \"reference\", \"estimate\", \"executive\"]|[0,0]|\n",
    "|2|[\"hello\", \"one\", \"even\", \"never\", \"now\", \"world\", \"draw\"]|[1,3]|"
   ]
  },
  {
   "cell_type": "code",
   "execution_count": 1,
   "metadata": {},
   "outputs": [],
   "source": [
    "def solution(n, words):\n",
    "    data=[words[i::n] for i in range(0,n)]\n",
    "    w=[]\n",
    "    for i in range(len(data[0])):\n",
    "        for j in range(len(data)):\n",
    "            if w==[] or (w[-1][-1]==data[j][i][0] and data[j][i] not in w):\n",
    "                w.append(data[j][i])\n",
    "            else:\n",
    "                return [j+1,i+1]\n",
    "            \n",
    "    return [0,0]"
   ]
  },
  {
   "cell_type": "code",
   "execution_count": 3,
   "metadata": {},
   "outputs": [
    {
     "data": {
      "text/plain": [
       "[3, 3]"
      ]
     },
     "execution_count": 3,
     "metadata": {},
     "output_type": "execute_result"
    }
   ],
   "source": [
    "n=3\n",
    "words=[\"tank\", \"kick\", \"know\", \"wheel\", \"land\", \"dream\", \"mother\", \"robot\", \"tank\"]\n",
    "solution(n,words)"
   ]
  }
 ],
 "metadata": {
  "kernelspec": {
   "display_name": "Python 3",
   "language": "python",
   "name": "python3"
  },
  "language_info": {
   "codemirror_mode": {
    "name": "ipython",
    "version": 3
   },
   "file_extension": ".py",
   "mimetype": "text/x-python",
   "name": "python",
   "nbconvert_exporter": "python",
   "pygments_lexer": "ipython3",
   "version": "3.5.6"
  }
 },
 "nbformat": 4,
 "nbformat_minor": 4
}
