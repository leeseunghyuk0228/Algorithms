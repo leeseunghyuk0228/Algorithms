{
 "cells": [
  {
   "cell_type": "markdown",
   "metadata": {},
   "source": [
    "# 숫자의 표현"
   ]
  },
  {
   "cell_type": "markdown",
   "metadata": {},
   "source": [
    "Finn은 요즘 수학공부에 빠져 있습니다. 수학 공부를 하던 Finn은 자연수 n을 연속한 자연수들로 표현 하는 방법이 여러개라는 사실을 알게 되었습니다. 예를들어 15는 다음과 같이 4가지로 표현 할 수 있습니다.<br>\n",
    "<br>\n",
    "1 + 2 + 3 + 4 + 5 = 15<br>\n",
    "4 + 5 + 6 = 15<br>\n",
    "7 + 8 = 15<br>\n",
    "15 = 15<br>\n",
    "자연수 n이 매개변수로 주어질 때, 연속된 자연수들로 n을 표현하는 방법의 수를 return하는 solution를 완성해주세요.<br><br>\n",
    "\n",
    "제한사항<br>\n",
    "n은 10,000 이하의 자연수 입니다."
   ]
  },
  {
   "cell_type": "markdown",
   "metadata": {},
   "source": [
    "입출력 예<br>\n",
    "\n",
    "|n|result|\n",
    "|-|-|\n",
    "|15|4|"
   ]
  },
  {
   "cell_type": "code",
   "execution_count": 4,
   "metadata": {},
   "outputs": [],
   "source": [
    "def solution(n):\n",
    "    s=1\n",
    "    tmp,ans=0,0\n",
    "    \n",
    "    while s<=n:\n",
    "        \n",
    "        mcnt=(n//s)+1\n",
    "        plus=1\n",
    "        \n",
    "        for i in range(s,n+1):\n",
    "            tmp+=i\n",
    "            plus+=1\n",
    "            \n",
    "            if tmp==n:\n",
    "                ans+=1\n",
    "                break    \n",
    "                \n",
    "            if plus>=mcnt or tmp>n:\n",
    "                break\n",
    "        s+=1\n",
    "        tmp=0\n",
    "        \n",
    "    return ans"
   ]
  },
  {
   "cell_type": "code",
   "execution_count": 5,
   "metadata": {},
   "outputs": [
    {
     "data": {
      "text/plain": [
       "4"
      ]
     },
     "execution_count": 5,
     "metadata": {},
     "output_type": "execute_result"
    }
   ],
   "source": [
    "solution(15)"
   ]
  }
 ],
 "metadata": {
  "kernelspec": {
   "display_name": "Python 3",
   "language": "python",
   "name": "python3"
  },
  "language_info": {
   "codemirror_mode": {
    "name": "ipython",
    "version": 3
   },
   "file_extension": ".py",
   "mimetype": "text/x-python",
   "name": "python",
   "nbconvert_exporter": "python",
   "pygments_lexer": "ipython3",
   "version": "3.7.6"
  }
 },
 "nbformat": 4,
 "nbformat_minor": 4
}
