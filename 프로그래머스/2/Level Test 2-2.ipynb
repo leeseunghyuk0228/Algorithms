{
 "cells": [
  {
   "cell_type": "markdown",
   "metadata": {},
   "source": [
    "# Leve2 Test 2 스코빌(실패함)"
   ]
  },
  {
   "cell_type": "markdown",
   "metadata": {},
   "source": [
    "매운 것을 좋아하는 Leo는 모든 음식의 스코빌 지수를 K 이상으로 만들고 싶습니다. 모든 음식의 스코빌 지수를 K 이상으로 만들기 위해 Leo는 스코빌 지수가 가장 낮은 두 개의 음식을 아래와 같이 특별한 방법으로 섞어 새로운 음식을 만듭니다.<br>\n",
    "<br>\n",
    "섞은 음식의 스코빌 지수 = 가장 맵지 않은 음식의 스코빌 지수 + (두 번째로 맵지 않은 음식의 스코빌 지수 * 2)<br>\n",
    "Leo는 모든 음식의 스코빌 지수가 K 이상이 될 때까지 반복하여 섞습니다.<br>\n",
    "Leo가 가진 음식의 스코빌 지수를 담은 배열 scoville과 원하는 스코빌 지수 K가 주어질 때, 모든 음식의 스코빌 지수를 K 이상으로 만들기 위해 섞어야 하는 최소 횟수를 return 하도록 solution 함수를 작성해주세요.<br><br>\n",
    "\n",
    "제한 사항<br>\n",
    "scoville의 길이는 2 이상 1,000,000 이하입니다.<br>\n",
    "K는 0 이상 1,000,000,000 이하입니다.<br>\n",
    "scoville의 원소는 각각 0 이상 1,000,000 이하입니다.<br>\n",
    "모든 음식의 스코빌 지수를 K 이상으로 만들 수 없는 경우에는 -1을 return 합니다.<br>"
   ]
  },
  {
   "cell_type": "markdown",
   "metadata": {},
   "source": [
    "입출력 예<br>\n",
    "\n",
    "|scoville|K|return|\n",
    "|-|-|-|\n",
    "|[1, 2, 3, 9, 10, 12]|7|2|\n",
    "\n",
    "<br>\n",
    "입출력 예 설명<br><br>\n",
    "스코빌 지수가 1인 음식과 2인 음식을 섞으면 음식의 스코빌 지수가 아래와 같이 됩니다.<br>\n",
    "새로운 음식의 스코빌 지수 = 1 + (2 * 2) = 5<br>\n",
    "가진 음식의 스코빌 지수 = [5, 3, 9, 10, 12]<br>\n",
    "<br>\n",
    "스코빌 지수가 3인 음식과 5인 음식을 섞으면 음식의 스코빌 지수가 아래와 같이 됩니다.<br>\n",
    "새로운 음식의 스코빌 지수 = 3 + (5 * 2) = 13<br>\n",
    "가진 음식의 스코빌 지수 = [13, 9, 10, 12]<br>\n",
    "<br>\n",
    "모든 음식의 스코빌 지수가 7 이상이 되었고 이때 섞은 횟수는 2회입니다.<br>"
   ]
  },
  {
   "cell_type": "code",
   "execution_count": 3,
   "metadata": {},
   "outputs": [],
   "source": [
    "def solution(s, K):\n",
    "    ns=sorted(list(filter(lambda x:x<K,s)))\n",
    "    cnt=0\n",
    "    \n",
    "    if len(ns)==0:\n",
    "        return 0\n",
    "    if len(s)==1:\n",
    "        ns.append(sorted(s)[0])\n",
    "\n",
    "    while min(ns) <= K:\n",
    "        ns[0]+=ns[1]*2\n",
    "        ns.pop(1)\n",
    "        ns.sort()\n",
    "        cnt+=1\n",
    "        if len(ns)==1 and ns[0]<K:\n",
    "            return -1\n",
    "        \n",
    "    return cnt"
   ]
  }
 ],
 "metadata": {
  "kernelspec": {
   "display_name": "Python 3",
   "language": "python",
   "name": "python3"
  },
  "language_info": {
   "codemirror_mode": {
    "name": "ipython",
    "version": 3
   },
   "file_extension": ".py",
   "mimetype": "text/x-python",
   "name": "python",
   "nbconvert_exporter": "python",
   "pygments_lexer": "ipython3",
   "version": "3.5.6"
  }
 },
 "nbformat": 4,
 "nbformat_minor": 4
}
