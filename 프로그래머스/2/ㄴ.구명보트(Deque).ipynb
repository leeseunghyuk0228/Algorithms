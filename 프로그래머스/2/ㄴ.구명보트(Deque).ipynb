{
 "cells": [
  {
   "cell_type": "markdown",
   "metadata": {},
   "source": [
    "# 구명보트"
   ]
  },
  {
   "cell_type": "markdown",
   "metadata": {},
   "source": [
    "무인도에 갇힌 사람들을 구명보트를 이용하여 구출하려고 합니다.<br>\n",
    "구명보트는 작아서 한 번에 최대 2명씩 밖에 탈 수 없고, 무게 제한도 있습니다.<br><br>\n",
    "\n",
    "예를 들어, 사람들의 몸무게가 [70kg, 50kg, 80kg, 50kg]이고 구명보트의 무게 제한이 100kg이라면<br>\n",
    "2번째 사람과 4번째 사람은 같이 탈 수 있지만 1번째 사람과 3번째 사람의 무게의 합은 150kg이므로 구명보트의 무게 제한을 초과하여 같이 탈 수 없습니다.<br><br>\n",
    "\n",
    "구명보트를 최대한 적게 사용하여 모든 사람을 구출하려고 합니다.<br><br>\n",
    "\n",
    "사람들의 몸무게를 담은 배열 people과 구명보트의 무게 제한 limit가 매개변수로 주어질 때, <br>\n",
    "모든 사람을 구출하기 위해 필요한 구명보트 개수의 최솟값을 return 하도록 solution 함수를 작성해주세요.<br><br>\n",
    "\n",
    "제한사항<br>\n",
    "무인도에 갇힌 사람은 1명 이상 50,000명 이하입니다.<br>\n",
    "각 사람의 몸무게는 40kg 이상 240kg 이하입니다.<br>\n",
    "구명보트의 무게 제한은 40kg 이상 240kg 이하입니다.<br>\n",
    "구명보트의 무게 제한은 항상 사람들의 몸무게 중 최댓값보다 크게 주어지므로 사람들을 구출할 수 없는 경우는 없습니다.<br>"
   ]
  },
  {
   "cell_type": "markdown",
   "metadata": {},
   "source": [
    "입출력 예<br>\n",
    "\n",
    "|people|limit|return|\n",
    "|-|-|-|\n",
    "|[70, 50, 80, 50]|100|3|\n",
    "|[70, 80, 50]|100|3|"
   ]
  },
  {
   "cell_type": "markdown",
   "metadata": {},
   "source": [
    "#### list.pop() 시간복잡도는 O()인 반면\n",
    "#### list.pop(1) 시간복잡도는 O(n)이라고 함 모든 원소를 확인\n",
    "#### remove, del 등도 동일해서 인덱스쪽으로 건드려야 함"
   ]
  },
  {
   "cell_type": "code",
   "execution_count": 5,
   "metadata": {},
   "outputs": [],
   "source": [
    "# 시간 초과\n",
    "\n",
    "def solution(people, limit):\n",
    "    ans=0\n",
    "    people.sort()\n",
    "\n",
    "    while people!=[]:\n",
    "        h=people.pop()                # 가장 무거운 놈\n",
    "        if people[0]+h<=limit:        # 가장 가벼운 놈(people[0]) 두 명이 한계보다 작으면 \n",
    "            people.pop(0)             # 가벼운 놈 제거(무거운놈은 이미 제거됨, 어차피 제거해야함) \n",
    "            ans+=1                    # 보트 수 1 증가\n",
    "        else:\n",
    "            ans+=1                    # 초과하면 가벼운놈 제거 X -> 가장 가벼운놈과도 안되니 큰놈은 혼자\n",
    "        if len(people)==1:            # 만약 남은 사람이 1명이면 에러가 뜰 수 있으니 결과+1 return\n",
    "            return ans+1\n",
    "        \n",
    "    return ans"
   ]
  },
  {
   "cell_type": "code",
   "execution_count": 6,
   "metadata": {},
   "outputs": [],
   "source": [
    "# 테스트 통과\n",
    "# 테스트케이스 미통과\n",
    "def solution(people, limit):\n",
    "    ans,a,b=0,0,len(people) # a는 가벼운넘 시작 인덱스, b는 가장 무거운넘 인덱스\n",
    "    people.sort()\n",
    "    \n",
    "    while a!=b:\n",
    "        try:                       # 에러날 수 있는 경우: 마지막놈 pop 했는데, a 인덱스 초과\n",
    "            h=people.pop()\n",
    "            if people[a]+h<=limit: # 가장 무거운놈과 가벼운놈 비교, 한계 이하이면\n",
    "                a+=1               # 가벼운놈 인덱스 증가\n",
    "                b-=1               # 무거운놈 인덱스 감소\n",
    "                ans+=1             # 보트 이용 횟수 증가\n",
    "            else: \n",
    "                b-=1               # 가장 무거운놈만 감소, 가벼운놈 그대로\n",
    "                ans+=1             # 보트 횟수 증가\n",
    "        except:                    # pop 했는데 a가 그놈인 경우 ex) p=[3,4],a=1  h=p.pop -> p[a] --> 오류       \n",
    "            return ans+1           # 즉 리스트 1개일때랑 같음, ans+1 return\n",
    "    return ans\n",
    "        "
   ]
  },
  {
   "cell_type": "markdown",
   "metadata": {},
   "source": [
    "정확성  테스트<br>\n",
    "테스트 1 〉\t통과 (1.56ms, 10.3MB)<br>\n",
    "테스트 2 〉\t통과 (1.31ms, 10.1MB)<br>\n",
    "테스트 3 〉\t통과 (1.19ms, 10.3MB)<br>\n",
    "테스트 4 〉\t통과 (0.58ms, 10MB)<br>\n",
    "테스트 5 〉\t통과 (0.38ms, 10.2MB)<br>\n",
    "테스트 6 〉\t통과 (0.23ms, 10.2MB)<br>\n",
    "테스트 7 〉\t통과 (0.32ms, 10MB)<br>\n",
    "테스트 8 〉\t통과 (0.03ms, 10MB)<br>\n",
    "테스트 9 〉\t통과 (0.05ms, 10.2MB)<br>\n",
    "테스트 10 〉\t통과 (1.14ms, 10.2MB)<br>\n",
    "테스트 11 〉\t통과 (0.53ms, 10MB)<br>\n",
    "테스트 12 〉\t통과 (0.46ms, 10MB)<br>\n",
    "테스트 13 〉\t통과 (0.74ms, 10.2MB)<br>\n",
    "테스트 14 〉\t통과 (0.88ms, 10.3MB)<br>\n",
    "테스트 15 〉\t통과 (0.07ms, 10MB)<br><br>\n",
    "효율성  테스트<br>\n",
    "테스트 1 〉\t통과 (9.27ms, 10.6MB)<br>\n",
    "테스트 2 〉\t통과 (9.93ms, 10.5MB)<br>\n",
    "테스트 3 〉\t통과 (8.56ms, 10.5MB)<br>\n",
    "테스트 4 〉\t통과 (10.81ms, 10.6MB)<br>\n",
    "테스트 5 〉\t통과 (8.76ms, 10.6MB)<br>\n",
    "\n",
    "### pop 보다 변수&index가 속도 훨씬 빠름\n",
    "### deque랑 거의 비슷하나 idex 방법이 자료형 클 때 더 빠른 듯"
   ]
  },
  {
   "cell_type": "code",
   "execution_count": 7,
   "metadata": {},
   "outputs": [],
   "source": [
    "# deque 코드\n",
    "from collections import deque\n",
    "\n",
    "def solution(people, limit):\n",
    "    result = 0\n",
    "    deque_people = deque(sorted(people))\n",
    "\n",
    "    while deque_people:\n",
    "        left = deque_people.popleft()\n",
    "        if not deque_people:\n",
    "            return result + 1\n",
    "        right = deque_people.pop()\n",
    "        if left + right > limit:\n",
    "            deque_people.appendleft(left)\n",
    "        result += 1\n",
    "    return result"
   ]
  }
 ],
 "metadata": {
  "kernelspec": {
   "display_name": "Python 3",
   "language": "python",
   "name": "python3"
  },
  "language_info": {
   "codemirror_mode": {
    "name": "ipython",
    "version": 3
   },
   "file_extension": ".py",
   "mimetype": "text/x-python",
   "name": "python",
   "nbconvert_exporter": "python",
   "pygments_lexer": "ipython3",
   "version": "3.5.6"
  }
 },
 "nbformat": 4,
 "nbformat_minor": 4
}
