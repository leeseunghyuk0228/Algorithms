{
 "cells": [
  {
   "cell_type": "markdown",
   "metadata": {},
   "source": [
    "# 피보나치 수"
   ]
  },
  {
   "cell_type": "markdown",
   "metadata": {},
   "source": [
    "피보나치 수는 F(0) = 0, F(1) = 1일 때, 1 이상의 n에 대하여 F(n) = F(n-1) + F(n-2) 가 적용되는 수 입니다.<br><br>\n",
    "\n",
    "예를들어<br>\n",
    "\n",
    "F(2) = F(0) + F(1) = 0 + 1 = 1<br>\n",
    "F(3) = F(1) + F(2) = 1 + 1 = 2<br>\n",
    "F(4) = F(2) + F(3) = 1 + 2 = 3<br>\n",
    "F(5) = F(3) + F(4) = 2 + 3 = 5<br>\n",
    "와 같이 이어집니다.<br><br>\n",
    "\n",
    "2 이상의 n이 입력되었을 때, n번째 피보나치 수를 1234567으로 나눈 나머지를 리턴하는 함수, solution을 완성해 주세요.<br><br>\n",
    "\n",
    "제한 사항<br>\n",
    "n은 2 이상 100,000 이하인 자연수입니다."
   ]
  },
  {
   "cell_type": "markdown",
   "metadata": {},
   "source": [
    "입출력 예<br>\n",
    "\n",
    "|n|return|\n",
    "|-|-|\n",
    "|3|2|\n",
    "|5|5|"
   ]
  },
  {
   "cell_type": "code",
   "execution_count": 2,
   "metadata": {},
   "outputs": [],
   "source": [
    "def solution(n):\n",
    "    pibo=[0,1,1,2]\n",
    "    \n",
    "    if n>3:\n",
    "        for i in range(1,n-2):\n",
    "            pibo.append(pibo[-1]+pibo[-2])\n",
    "            \n",
    "    return pibo[n]%1234567\n"
   ]
  },
  {
   "cell_type": "code",
   "execution_count": 3,
   "metadata": {},
   "outputs": [
    {
     "data": {
      "text/plain": [
       "2"
      ]
     },
     "execution_count": 3,
     "metadata": {},
     "output_type": "execute_result"
    }
   ],
   "source": [
    "solution(3)"
   ]
  }
 ],
 "metadata": {
  "kernelspec": {
   "display_name": "Python 3",
   "language": "python",
   "name": "python3"
  },
  "language_info": {
   "codemirror_mode": {
    "name": "ipython",
    "version": 3
   },
   "file_extension": ".py",
   "mimetype": "text/x-python",
   "name": "python",
   "nbconvert_exporter": "python",
   "pygments_lexer": "ipython3",
   "version": "3.7.6"
  }
 },
 "nbformat": 4,
 "nbformat_minor": 4
}
