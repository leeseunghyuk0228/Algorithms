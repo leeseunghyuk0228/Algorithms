{
 "cells": [
  {
   "cell_type": "code",
   "execution_count": null,
   "metadata": {},
   "outputs": [],
   "source": [
    "[PCCP 모의고사 #1] 외톨이 알파벳"
   ]
  },
  {
   "cell_type": "code",
   "execution_count": null,
   "metadata": {},
   "outputs": [],
   "source": [
    "제한사항\n",
    "1 ≤ input_string의 길이 ≤ 2,600\n",
    "input_string은 알파벳 소문자로만 구성되어 있습니다..\n",
    "입출력 예\n",
    "input_string\tresult\n",
    "\"edeaaabbccd\"\t\"de\"\n",
    "\"eeddee\"\t\"e\"\n",
    "\"string\"\t\"N\"\n",
    "\"zbzbz\"\t\"bz\""
   ]
  },
  {
   "cell_type": "code",
   "execution_count": null,
   "metadata": {},
   "outputs": [],
   "source": [
    "알파벳 소문자로만 이루어진 어떤 문자열에서, 2회 이상 나타난 알파벳이 2개 이상의 부분으로 나뉘어 있으면 외톨이 알파벳이라고 정의합니다.\n",
    "\n",
    "문자열 \"edeaaabbccd\"를 예시로 들어보면,\n",
    "\n",
    "a는 2회 이상 나타나지만, 하나의 덩어리로 뭉쳐있으므로 외톨이 알파벳이 아닙니다.\n",
    "\"ede(aaa)bbccd\"\n",
    "b, c도 a와 같은 이유로 외톨이 알파벳이 아닙니다.\n",
    "d는 2회 나타나면서, 2개의 부분으로 나뉘어 있으므로 외톨이 알파벳입니다.\n",
    "\"e(d)eaaabbcc(d)\"\n",
    "e도 d와 같은 이유로 외톨이 알파벳입니다.\n",
    "문자열 \"eeddee\"를 예시로 들어보면,\n",
    "\n",
    "e는 4회 나타나면서, 2개의 부분으로 나뉘어 있으므로 외톨이 알파벳입니다.\n",
    "\"(ee)dd(ee)\"\n",
    "d는 2회 나타나지만, 하나의 덩어리로 뭉쳐있으므로 외톨이 알파벳이 아닙니다.\n",
    "\"ee(dd)ee\"\n",
    "문자열 input_string이 주어졌을 때, 외톨이 알파벳들을 알파벳순으로 이어 붙인 문자열을 return 하도록 solution 함수를 완성해주세요. 만약, 외톨이 알파벳이 없다면 문자열 \"N\"을 return 합니다."
   ]
  },
  {
   "cell_type": "code",
   "execution_count": null,
   "metadata": {},
   "outputs": [],
   "source": [
    "import re\n",
    "\n",
    "def solution(input_string):\n",
    "    \n",
    "    res=[]\n",
    "    for check in list(set(list(input_string))):\n",
    "        data=list(filter(lambda x:x!='',re.findall(f'({check}*)',input_string)))\n",
    "        if len(data)>=2:\n",
    "            res.append(check)\n",
    "    \n",
    "    \n",
    "    if res==[]: return 'N'\n",
    "    else: return ''.join(sorted(res))\n",
    "\n",
    "    \n",
    "    \n",
    "#     alpha=[0]\n",
    "#     res=[]\n",
    "#     for i in input_string:\n",
    "#         if i in alpha:\n",
    "#             if alpha[-1]==i:pass\n",
    "#             else: res.append(i)\n",
    "#         else:alpha.append(i)\n",
    "#     print(alpha)\n",
    "#     print(res)\n",
    "    \n",
    "    \n",
    "#     if res==[]: return 'N'\n",
    "#     else: return ''.join(sorted(list(set(res))))"
   ]
  }
 ],
 "metadata": {
  "kernelspec": {
   "display_name": "Python 3",
   "language": "python",
   "name": "python3"
  },
  "language_info": {
   "codemirror_mode": {
    "name": "ipython",
    "version": 3
   },
   "file_extension": ".py",
   "mimetype": "text/x-python",
   "name": "python",
   "nbconvert_exporter": "python",
   "pygments_lexer": "ipython3",
   "version": "3.7.6"
  }
 },
 "nbformat": 4,
 "nbformat_minor": 4
}
