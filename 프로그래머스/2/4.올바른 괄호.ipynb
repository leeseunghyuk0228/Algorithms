{
 "cells": [
  {
   "cell_type": "markdown",
   "metadata": {},
   "source": [
    "# 올바른 괄호"
   ]
  },
  {
   "cell_type": "markdown",
   "metadata": {},
   "source": [
    "\n",
    "괄호가 바르게 짝지어졌다는 것은 '(' 문자로 열렸으면 반드시 짝지어서 ')' 문자로 닫혀야 한다는 뜻입니다.<br>\n",
    "예를 들어<br><br>\n",
    "\n",
    "\"()()\" 또는 \"(())()\" 는 올바른 괄호입니다.<br>\n",
    "\")()(\" 또는 \"(()(\" 는 올바르지 않은 괄호입니다.<br>\n",
    "'(' 또는 ')' 로만 이루어진 문자열 s가 주어졌을 때, 문자열 s가 올바른 괄호이면 true를 return 하고, <br>\n",
    "올바르지 않은 괄호이면 false를 return 하는 solution 함수를 완성해 주세요.<br><br>\n",
    "\n",
    "제한사항<br>\n",
    "문자열 s의 길이 : 100,000 이하의 자연수<br>\n",
    "문자열 s는 '(' 또는 ')' 로만 이루어져 있습니다.<br>"
   ]
  },
  {
   "cell_type": "markdown",
   "metadata": {},
   "source": [
    "입출력 예<br>\n",
    "\n",
    "|s|answer|\n",
    "|-|-|\n",
    "|\"()()\"|true|\n",
    "|\"(())()\"|true|\n",
    "|\")()(\"|false|\n",
    "|\"(()(\"|false|"
   ]
  },
  {
   "cell_type": "code",
   "execution_count": 6,
   "metadata": {},
   "outputs": [],
   "source": [
    "def solution(s):\n",
    "#     queue=[s[0]]\n",
    "\n",
    "#     for i in s[1:]:   \n",
    "#         if len(queue)!=0 and queue[-1]!=i and queue[-1]=='(':\n",
    "#             queue.pop()\n",
    "#         else:\n",
    "#             queue.append(i)\n",
    "        \n",
    "#     if len(queue)==0: return True\n",
    "#     else: return False\n",
    "    if '()'*int(len(s)/2)==s:\n",
    "        return True\n",
    "    x = 0\n",
    "    for w in s:\n",
    "        if x < 0:\n",
    "            break\n",
    "        x = x+1 if w==\"(\" else x-1 if w==\")\" else x\n",
    "\n",
    "    return x==0"
   ]
  },
  {
   "cell_type": "code",
   "execution_count": 4,
   "metadata": {},
   "outputs": [
    {
     "data": {
      "text/plain": [
       "True"
      ]
     },
     "execution_count": 4,
     "metadata": {},
     "output_type": "execute_result"
    }
   ],
   "source": [
    "s='(())()'\n",
    "solution(s)"
   ]
  },
  {
   "cell_type": "markdown",
   "metadata": {},
   "source": [
    "#### 다른사람이 작성한 코드가 더 효율적\n",
    "#### 문자열간의 스택 구조가 아닌 '('=1 , ')'=-1로 대치해\n",
    "#### -1이 되는 순간->'(' 문자의 개수보다 ')'문자의 개수가 많음\n",
    "#### False 리턴"
   ]
  }
 ],
 "metadata": {
  "kernelspec": {
   "display_name": "Python 3",
   "language": "python",
   "name": "python3"
  },
  "language_info": {
   "codemirror_mode": {
    "name": "ipython",
    "version": 3
   },
   "file_extension": ".py",
   "mimetype": "text/x-python",
   "name": "python",
   "nbconvert_exporter": "python",
   "pygments_lexer": "ipython3",
   "version": "3.7.6"
  }
 },
 "nbformat": 4,
 "nbformat_minor": 4
}
