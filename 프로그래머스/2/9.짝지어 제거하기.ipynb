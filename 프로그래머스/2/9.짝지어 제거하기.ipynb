{
 "cells": [
  {
   "cell_type": "markdown",
   "metadata": {},
   "source": [
    "# 짝지어 제거하기"
   ]
  },
  {
   "cell_type": "markdown",
   "metadata": {},
   "source": [
    "짝지어 제거하기는, 알파벳 소문자로 이루어진 문자열을 가지고 시작합니다. <br>\n",
    "먼저 문자열에서 같은 알파벳이 2개 붙어 있는 짝을 찾습니다. <br>\n",
    "그다음, 그 둘을 제거한 뒤, 앞뒤로 문자열을 이어 붙입니다. 이 과정을 반복해서 문자열을 모두 제거한다면 짝지어 제거하기가 종료됩니다.<br>\n",
    "문자열 S가 주어졌을 때, 짝지어 제거하기를 성공적으로 수행할 수 있는지 반환하는 함수를 완성해 주세요.<br>\n",
    "성공적으로 수행할 수 있으면 1을, 아닐 경우 0을 리턴해주면 됩니다.<br><br>\n",
    "\n",
    "예를 들어, 문자열 S = baabaa 라면<br><br>\n",
    "\n",
    "b aa baa → bb aa → aa →<br><br>\n",
    "\n",
    "의 순서로 문자열을 모두 제거할 수 있으므로 1을 반환합니다.<br><br>\n",
    "\n",
    "제한사항<br>\n",
    "문자열의 길이 : 1,000,000이하의 자연수<br>\n",
    "문자열은 모두 소문자로 이루어져 있습니다.<br>"
   ]
  },
  {
   "cell_type": "markdown",
   "metadata": {},
   "source": [
    "입출력 예<br>\n",
    "\n",
    "|s|result|\n",
    "|-|-|\n",
    "|baabaa|1|\n",
    "|cdcd|0|"
   ]
  },
  {
   "cell_type": "code",
   "execution_count": 2,
   "metadata": {},
   "outputs": [],
   "source": [
    "def solution(s):\n",
    "    a=[i for i in s]\n",
    "    b=[]\n",
    "    \n",
    "    for j in a:\n",
    "        if b!=[] and b[-1]==j:\n",
    "            b.pop(-1)\n",
    "        else:\n",
    "            b.append(j)\n",
    "            \n",
    "    return int(b==[])\n"
   ]
  },
  {
   "cell_type": "code",
   "execution_count": 3,
   "metadata": {},
   "outputs": [
    {
     "data": {
      "text/plain": [
       "1"
      ]
     },
     "execution_count": 3,
     "metadata": {},
     "output_type": "execute_result"
    }
   ],
   "source": [
    "solution('baabaa')"
   ]
  }
 ],
 "metadata": {
  "kernelspec": {
   "display_name": "Python 3",
   "language": "python",
   "name": "python3"
  },
  "language_info": {
   "codemirror_mode": {
    "name": "ipython",
    "version": 3
   },
   "file_extension": ".py",
   "mimetype": "text/x-python",
   "name": "python",
   "nbconvert_exporter": "python",
   "pygments_lexer": "ipython3",
   "version": "3.5.6"
  }
 },
 "nbformat": 4,
 "nbformat_minor": 4
}
