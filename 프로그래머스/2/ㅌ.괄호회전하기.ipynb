{
 "cells": [
  {
   "cell_type": "markdown",
   "metadata": {},
   "source": [
    "# 괄호회전하기"
   ]
  },
  {
   "cell_type": "markdown",
   "metadata": {},
   "source": [
    "다음 규칙을 지키는 문자열을 올바른 괄호 문자열이라고 정의합니다.<br>\n",
    "<br>\n",
    "(), [], {} 는 모두 올바른 괄호 문자열입니다.<br>\n",
    "만약 A가 올바른 괄호 문자열이라면, (A), [A], {A} 도 올바른 괄호 문자열입니다.<br>\n",
    "예를 들어, [] 가 올바른 괄호 문자열이므로, ([]) 도 올바른 괄호 문자열입니다.<br>\n",
    "만약 A, B가 올바른 괄호 문자열이라면, AB 도 올바른 괄호 문자열입니다.<br>\n",
    "예를 들어, {} 와 ([]) 가 올바른 괄호 문자열이므로, {}([]) 도 올바른 괄호 문자열입니다.<br>\n",
    "대괄호, 중괄호, 그리고 소괄호로 이루어진 문자열 s가 매개변수로 주어집니다.<br>\n",
    "이 s를 왼쪽으로 x (0 ≤ x < (s의 길이)) 칸만큼 회전시켰을 때 s가 올바른 괄호 문자열이 <br>\n",
    "되게 하는 x의 개수를 return 하도록 solution 함수를 완성해주세요.<br>"
   ]
  },
  {
   "cell_type": "markdown",
   "metadata": {},
   "source": [
    "입출력 예 #1 <br>\n",
    "<br>\n",
    "다음 표는 \"[](){}\" 를 회전시킨 모습을 나타낸 것입니다.<br>\n",
    "\n",
    "|num|x|올바른 괄호 문자열?|\n",
    "|:-:|:-:|:-:|\n",
    "|0|\" [ ] ( ) { } \"|O|\n",
    "|1|\" ] ( ) { } [ \"|X|\n",
    "|2|\" ( ) { } [ ] \"|O|\n",
    "|3|\" ) { } [ ] ( \"|X|\n",
    "|4|\" { } [ ] ( ) \"|O|\n",
    "|5|\" } [ ] ( ) { \"|X|\n",
    "\n",
    "올바른 괄호 문자열이 되는 x가 3개이므로, 3을 return 해야 합니다.<br>"
   ]
  },
  {
   "cell_type": "code",
   "execution_count": null,
   "metadata": {},
   "outputs": [],
   "source": [
    "def solution(s):\n",
    "    ans,tmp=0,['a']\n",
    "    \n",
    "    for n in range(len(s)):\n",
    "        \n",
    "        for i in s:\n",
    "            if ord(tmp[-1])-ord(i)==-1 or ord(tmp[-1])-ord(i)==-2 :tmp.pop()\n",
    "            else: tmp.append(i)\n",
    "\n",
    "        if len(tmp)==1: ans+=1\n",
    "        \n",
    "        tmp=['a']\n",
    "        s+=s[0]\n",
    "        s=s[1:]\n",
    "        \n",
    "    return ans\n"
   ]
  }
 ],
 "metadata": {
  "kernelspec": {
   "display_name": "Python 3",
   "language": "python",
   "name": "python3"
  },
  "language_info": {
   "codemirror_mode": {
    "name": "ipython",
    "version": 3
   },
   "file_extension": ".py",
   "mimetype": "text/x-python",
   "name": "python",
   "nbconvert_exporter": "python",
   "pygments_lexer": "ipython3",
   "version": "3.7.6"
  }
 },
 "nbformat": 4,
 "nbformat_minor": 4
}
