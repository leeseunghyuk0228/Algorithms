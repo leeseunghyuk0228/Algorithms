{
 "cells": [
  {
   "cell_type": "markdown",
   "metadata": {},
   "source": [
    "# 멀리뛰기(피보나치, DP? )"
   ]
  },
  {
   "cell_type": "markdown",
   "metadata": {},
   "source": [
    "효진이는 멀리 뛰기를 연습하고 있습니다. <br>\n",
    "효진이는 한번에 1칸, 또는 2칸을 뛸 수 있습니다. 칸이 총 4개 있을 때, 효진이는<br>\n",
    "(1칸, 1칸, 1칸, 1칸)<br>\n",
    "(1칸, 2칸, 1칸)<br>\n",
    "(1칸, 1칸, 2칸)<br>\n",
    "(2칸, 1칸, 1칸)<br>\n",
    "(2칸, 2칸)<br>\n",
    "의 5가지 방법으로 맨 끝 칸에 도달할 수 있습니다. <br>\n",
    "멀리뛰기에 사용될 칸의 수 n이 주어질 때, <br>\n",
    "효진이가 끝에 도달하는 방법이 몇 가지인지 알아내, 여기에 1234567를 나눈 나머지를 리턴하는 함수, <br>\n",
    "solution을 완성하세요. 예를 들어 4가 입력된다면, 5를 return하면 됩니다.<br>"
   ]
  },
  {
   "cell_type": "markdown",
   "metadata": {},
   "source": [
    "제한 사항<br>\n",
    "n은 1 이상, 2000 이하인 정수입니다.<br>\n",
    "\n",
    "입출력 예<br>\n",
    "\n",
    "|n|result|\n",
    "|-|-|\n",
    "|4|5|\n",
    "|3|3|"
   ]
  },
  {
   "cell_type": "markdown",
   "metadata": {},
   "source": [
    "### 팩토리얼로는 풀 수 없는 문제(Overflow)\n",
    "#### 점화식(?)\n",
    "#### 3칸을 가는 경우는 1칸을 가는 방법 + 2칸을 가는 방법 이라고 함.."
   ]
  },
  {
   "cell_type": "code",
   "execution_count": 1,
   "metadata": {},
   "outputs": [],
   "source": [
    "# def solution(n):\n",
    "#     factorial=[]\n",
    "#     ans,f=0,1\n",
    "    \n",
    "#     for i in range(1,n+2):\n",
    "#         factorial.append(f)\n",
    "#         f*=i\n",
    "    \n",
    "#     b=0 if n%2==0 else 1\n",
    "    \n",
    "#     for a in range(n//2,-1,-1):\n",
    "#         ans+=(factorial[a+b]/(factorial[a]*factorial[b]))\n",
    "#         ans%=1234567\n",
    "#         b+=2\n",
    "        \n",
    "#     return int(ans%1234567)"
   ]
  },
  {
   "cell_type": "code",
   "execution_count": 2,
   "metadata": {},
   "outputs": [],
   "source": [
    "def solution(n):\n",
    "    if n<3:\n",
    "        return n\n",
    "    d=[0]*(n+1)\n",
    "    d[1]=1\n",
    "    d[2]=2\n",
    "    for i in range(3,n+1):\n",
    "        d[i]=d[i-1]+d[i-2]\n",
    "    return d[n]%1234567"
   ]
  }
 ],
 "metadata": {
  "kernelspec": {
   "display_name": "Python 3",
   "language": "python",
   "name": "python3"
  },
  "language_info": {
   "codemirror_mode": {
    "name": "ipython",
    "version": 3
   },
   "file_extension": ".py",
   "mimetype": "text/x-python",
   "name": "python",
   "nbconvert_exporter": "python",
   "pygments_lexer": "ipython3",
   "version": "3.7.6"
  }
 },
 "nbformat": 4,
 "nbformat_minor": 4
}
