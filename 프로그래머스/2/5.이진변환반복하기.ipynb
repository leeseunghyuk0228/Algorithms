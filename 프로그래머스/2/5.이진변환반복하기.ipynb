{
 "cells": [
  {
   "cell_type": "markdown",
   "metadata": {},
   "source": [
    "# 이진 변환 반복하기"
   ]
  },
  {
   "cell_type": "markdown",
   "metadata": {},
   "source": [
    "0과 1로 이루어진 어떤 문자열 x에 대한 이진 변환을 다음과 같이 정의합니다.<br>\n",
    "<br>\n",
    "x의 모든 0을 제거합니다.<br>\n",
    "x의 길이를 c라고 하면, x를 \"c를 2진법으로 표현한 문자열\"로 바꿉니다.<br>\n",
    "예를 들어, x = \"0111010\"이라면, x에 이진 변환을 가하면 x = \"0111010\" -> \"1111\" -> \"100\" 이 됩니다.<br><br>\n",
    "\n",
    "\n",
    "0과 1로 이루어진 문자열 s가 매개변수로 주어집니다. <br>\n",
    "s가 \"1\"이 될 때까지 계속해서 s에 이진 변환을 가했을 때, <br>\n",
    "이진 변환의 횟수와 변환 과정에서 제거된 모든 0의 개수를 각각 배열에 담아 return 하도록 solution 함수를 완성해주세요.<br>"
   ]
  },
  {
   "cell_type": "markdown",
   "metadata": {},
   "source": [
    "제한사항<br>\n",
    "s의 길이는 1 이상 150,000 이하입니다.<br>\n",
    "s에는 '1'이 최소 하나 이상 포함되어 있습니다.<br>\n",
    "\n",
    "입출력 예<br>\n",
    "\n",
    "|s|result|\n",
    "|-|-|\n",
    "|\"110010101001\"|[3,8]|\n",
    "|\"01110\"|[3,3]|\n",
    "|\"1111111\"|[4,1]|"
   ]
  },
  {
   "cell_type": "code",
   "execution_count": 1,
   "metadata": {},
   "outputs": [],
   "source": [
    "def solution(s):\n",
    "    ans=[0,0]\n",
    "    \n",
    "    while s!='1':\n",
    "        ans[1]+=s.count('0')\n",
    "        ans[0]+=1\n",
    "        s=str(bin(s.count('1')))[2:]\n",
    "    return ans"
   ]
  },
  {
   "cell_type": "code",
   "execution_count": 2,
   "metadata": {},
   "outputs": [
    {
     "data": {
      "text/plain": [
       "[3, 8]"
      ]
     },
     "execution_count": 2,
     "metadata": {},
     "output_type": "execute_result"
    }
   ],
   "source": [
    "s=\"110010101001\"\n",
    "solution(s)"
   ]
  }
 ],
 "metadata": {
  "kernelspec": {
   "display_name": "Python 3",
   "language": "python",
   "name": "python3"
  },
  "language_info": {
   "codemirror_mode": {
    "name": "ipython",
    "version": 3
   },
   "file_extension": ".py",
   "mimetype": "text/x-python",
   "name": "python",
   "nbconvert_exporter": "python",
   "pygments_lexer": "ipython3",
   "version": "3.7.6"
  }
 },
 "nbformat": 4,
 "nbformat_minor": 4
}
